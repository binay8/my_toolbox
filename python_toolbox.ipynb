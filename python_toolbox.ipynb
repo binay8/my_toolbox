{
 "cells": [
  {
   "cell_type": "markdown",
   "source": [
    "<h1>Python Style Guide/Naming Convention</h1>\n",
    "<p><b>Use following table</b></p>\n",
    "\n",
    "<table style=\"width:100%\">\n",
    "  <tr>\n",
    "    <th>Action</th>\n",
    "    <th>Naming Convention</th> \n",
    "    <th>Description</th>\n",
    "  </tr>\n",
    "  <tr>\n",
    "    <td>Package/Module Name</td>\n",
    "    <td>lowercasename</td>\n",
    "    <td>Prefably all-lowercase name. Underscore to seperate words accepted</td>\n",
    "  </tr>\n",
    "  <tr>\n",
    "    <td>Class Name</td>\n",
    "    <td>CapWord</td>\n",
    "    <td>Normally CapWord convention needs to be followed. Exceptions exists </td>\n",
    "  </tr>\n",
    "  <tr>\n",
    "    <td>Functions</td>\n",
    "    <td>lowercase_undrscor_sprated</td>\n",
    "    <td>Function Names should be lowercase, with words separated by underscores as necessary to improve readability</td>\n",
    "  </tr>\n",
    "  <tr>\n",
    "    <td>Variables</td>\n",
    "    <td>lowercase_undrscor_sprated</td>\n",
    "    <td>Variables Name should be lowercase, with words separated by underscores as necessary to improve readability</td>\n",
    "  </tr>\n",
    "  <tr>\n",
    "    <td>Function and Method Argument</td>\n",
    "    <td>Use \"self\" for first argumnet to instance method. Use \"cls\" for the first argument to class method</td>\n",
    "    <td>If a function argument's name clashes with a reserved keyword, it is generally better to append a single trailing underscore rather than use an abbreviation or spelling corruption. Thus class_ is better than clss. </td>\n",
    "  </tr>\n",
    "  <tr>\n",
    "    <td>Method Name and Instance variable</td>\n",
    "    <td>lowercase_undrscor_sprated</td>\n",
    "    <td>Exceptions may apply</td>\n",
    "  </tr>\n",
    "  <tr>\n",
    "    <td>Constant</td>\n",
    "    <td>ALLCAP_UNDRSCOR_SPRATED</td>\n",
    "    <td>Constants are usually defined on a module level and written in all capital letters with underscores separating words.</td>\n",
    "  </tr>\n",
    "</table>\n",
    "<p><b>For more on Style Guide and Naming convention click link below</b></p>\n",
    "<p><a href=\"https://www.python.org/dev/peps/pep-0008/#package-and-module-names\">PEP 8--Style Guide for Python</a></p>\n",
    "\n",
    "</body>\n",
    "</html>"
   ],
   "metadata": {}
  },
  {
   "cell_type": "markdown",
   "source": [
    "<h1>Reading CSV and excel files from different sources</h1>"
   ],
   "metadata": {}
  },
  {
   "cell_type": "markdown",
   "source": [
    "### Local file system"
   ],
   "metadata": {}
  },
  {
   "cell_type": "code",
   "execution_count": 13,
   "source": [
    "import pandas as pd\r\n",
    "path = r'C:\\Users\\username\\.....\\filename.csv'\r\n",
    "df = pd.read_csv(path)"
   ],
   "outputs": [
    {
     "output_type": "error",
     "ename": "FileNotFoundError",
     "evalue": "[Errno 2] File b'C:\\\\Users\\\\username\\\\.....\\\\filename.csv' does not exist: b'C:\\\\Users\\\\username\\\\.....\\\\filename.csv'",
     "traceback": [
      "\u001b[1;31m---------------------------------------------------------------------------\u001b[0m",
      "\u001b[1;31mFileNotFoundError\u001b[0m                         Traceback (most recent call last)",
      "\u001b[1;32m<ipython-input-13-8bcc7392b559>\u001b[0m in \u001b[0;36m<module>\u001b[1;34m\u001b[0m\n\u001b[0;32m      1\u001b[0m \u001b[1;32mimport\u001b[0m \u001b[0mpandas\u001b[0m \u001b[1;32mas\u001b[0m \u001b[0mpd\u001b[0m\u001b[1;33m\u001b[0m\u001b[1;33m\u001b[0m\u001b[0m\n\u001b[0;32m      2\u001b[0m \u001b[0mpath\u001b[0m \u001b[1;33m=\u001b[0m \u001b[1;34mr'C:\\Users\\username\\.....\\filename.csv'\u001b[0m\u001b[1;33m\u001b[0m\u001b[1;33m\u001b[0m\u001b[0m\n\u001b[1;32m----> 3\u001b[1;33m \u001b[0mdf\u001b[0m \u001b[1;33m=\u001b[0m \u001b[0mpd\u001b[0m\u001b[1;33m.\u001b[0m\u001b[0mread_csv\u001b[0m\u001b[1;33m(\u001b[0m\u001b[0mpath\u001b[0m\u001b[1;33m)\u001b[0m\u001b[1;33m\u001b[0m\u001b[1;33m\u001b[0m\u001b[0m\n\u001b[0m",
      "\u001b[1;32mC:\\ProgramData\\Anaconda3\\lib\\site-packages\\pandas\\io\\parsers.py\u001b[0m in \u001b[0;36mparser_f\u001b[1;34m(filepath_or_buffer, sep, delimiter, header, names, index_col, usecols, squeeze, prefix, mangle_dupe_cols, dtype, engine, converters, true_values, false_values, skipinitialspace, skiprows, skipfooter, nrows, na_values, keep_default_na, na_filter, verbose, skip_blank_lines, parse_dates, infer_datetime_format, keep_date_col, date_parser, dayfirst, iterator, chunksize, compression, thousands, decimal, lineterminator, quotechar, quoting, doublequote, escapechar, comment, encoding, dialect, tupleize_cols, error_bad_lines, warn_bad_lines, delim_whitespace, low_memory, memory_map, float_precision)\u001b[0m\n\u001b[0;32m    700\u001b[0m                     skip_blank_lines=skip_blank_lines)\n\u001b[0;32m    701\u001b[0m \u001b[1;33m\u001b[0m\u001b[0m\n\u001b[1;32m--> 702\u001b[1;33m         \u001b[1;32mreturn\u001b[0m \u001b[0m_read\u001b[0m\u001b[1;33m(\u001b[0m\u001b[0mfilepath_or_buffer\u001b[0m\u001b[1;33m,\u001b[0m \u001b[0mkwds\u001b[0m\u001b[1;33m)\u001b[0m\u001b[1;33m\u001b[0m\u001b[1;33m\u001b[0m\u001b[0m\n\u001b[0m\u001b[0;32m    703\u001b[0m \u001b[1;33m\u001b[0m\u001b[0m\n\u001b[0;32m    704\u001b[0m     \u001b[0mparser_f\u001b[0m\u001b[1;33m.\u001b[0m\u001b[0m__name__\u001b[0m \u001b[1;33m=\u001b[0m \u001b[0mname\u001b[0m\u001b[1;33m\u001b[0m\u001b[1;33m\u001b[0m\u001b[0m\n",
      "\u001b[1;32mC:\\ProgramData\\Anaconda3\\lib\\site-packages\\pandas\\io\\parsers.py\u001b[0m in \u001b[0;36m_read\u001b[1;34m(filepath_or_buffer, kwds)\u001b[0m\n\u001b[0;32m    427\u001b[0m \u001b[1;33m\u001b[0m\u001b[0m\n\u001b[0;32m    428\u001b[0m     \u001b[1;31m# Create the parser.\u001b[0m\u001b[1;33m\u001b[0m\u001b[1;33m\u001b[0m\u001b[1;33m\u001b[0m\u001b[0m\n\u001b[1;32m--> 429\u001b[1;33m     \u001b[0mparser\u001b[0m \u001b[1;33m=\u001b[0m \u001b[0mTextFileReader\u001b[0m\u001b[1;33m(\u001b[0m\u001b[0mfilepath_or_buffer\u001b[0m\u001b[1;33m,\u001b[0m \u001b[1;33m**\u001b[0m\u001b[0mkwds\u001b[0m\u001b[1;33m)\u001b[0m\u001b[1;33m\u001b[0m\u001b[1;33m\u001b[0m\u001b[0m\n\u001b[0m\u001b[0;32m    430\u001b[0m \u001b[1;33m\u001b[0m\u001b[0m\n\u001b[0;32m    431\u001b[0m     \u001b[1;32mif\u001b[0m \u001b[0mchunksize\u001b[0m \u001b[1;32mor\u001b[0m \u001b[0miterator\u001b[0m\u001b[1;33m:\u001b[0m\u001b[1;33m\u001b[0m\u001b[1;33m\u001b[0m\u001b[0m\n",
      "\u001b[1;32mC:\\ProgramData\\Anaconda3\\lib\\site-packages\\pandas\\io\\parsers.py\u001b[0m in \u001b[0;36m__init__\u001b[1;34m(self, f, engine, **kwds)\u001b[0m\n\u001b[0;32m    893\u001b[0m             \u001b[0mself\u001b[0m\u001b[1;33m.\u001b[0m\u001b[0moptions\u001b[0m\u001b[1;33m[\u001b[0m\u001b[1;34m'has_index_names'\u001b[0m\u001b[1;33m]\u001b[0m \u001b[1;33m=\u001b[0m \u001b[0mkwds\u001b[0m\u001b[1;33m[\u001b[0m\u001b[1;34m'has_index_names'\u001b[0m\u001b[1;33m]\u001b[0m\u001b[1;33m\u001b[0m\u001b[1;33m\u001b[0m\u001b[0m\n\u001b[0;32m    894\u001b[0m \u001b[1;33m\u001b[0m\u001b[0m\n\u001b[1;32m--> 895\u001b[1;33m         \u001b[0mself\u001b[0m\u001b[1;33m.\u001b[0m\u001b[0m_make_engine\u001b[0m\u001b[1;33m(\u001b[0m\u001b[0mself\u001b[0m\u001b[1;33m.\u001b[0m\u001b[0mengine\u001b[0m\u001b[1;33m)\u001b[0m\u001b[1;33m\u001b[0m\u001b[1;33m\u001b[0m\u001b[0m\n\u001b[0m\u001b[0;32m    896\u001b[0m \u001b[1;33m\u001b[0m\u001b[0m\n\u001b[0;32m    897\u001b[0m     \u001b[1;32mdef\u001b[0m \u001b[0mclose\u001b[0m\u001b[1;33m(\u001b[0m\u001b[0mself\u001b[0m\u001b[1;33m)\u001b[0m\u001b[1;33m:\u001b[0m\u001b[1;33m\u001b[0m\u001b[1;33m\u001b[0m\u001b[0m\n",
      "\u001b[1;32mC:\\ProgramData\\Anaconda3\\lib\\site-packages\\pandas\\io\\parsers.py\u001b[0m in \u001b[0;36m_make_engine\u001b[1;34m(self, engine)\u001b[0m\n\u001b[0;32m   1120\u001b[0m     \u001b[1;32mdef\u001b[0m \u001b[0m_make_engine\u001b[0m\u001b[1;33m(\u001b[0m\u001b[0mself\u001b[0m\u001b[1;33m,\u001b[0m \u001b[0mengine\u001b[0m\u001b[1;33m=\u001b[0m\u001b[1;34m'c'\u001b[0m\u001b[1;33m)\u001b[0m\u001b[1;33m:\u001b[0m\u001b[1;33m\u001b[0m\u001b[1;33m\u001b[0m\u001b[0m\n\u001b[0;32m   1121\u001b[0m         \u001b[1;32mif\u001b[0m \u001b[0mengine\u001b[0m \u001b[1;33m==\u001b[0m \u001b[1;34m'c'\u001b[0m\u001b[1;33m:\u001b[0m\u001b[1;33m\u001b[0m\u001b[1;33m\u001b[0m\u001b[0m\n\u001b[1;32m-> 1122\u001b[1;33m             \u001b[0mself\u001b[0m\u001b[1;33m.\u001b[0m\u001b[0m_engine\u001b[0m \u001b[1;33m=\u001b[0m \u001b[0mCParserWrapper\u001b[0m\u001b[1;33m(\u001b[0m\u001b[0mself\u001b[0m\u001b[1;33m.\u001b[0m\u001b[0mf\u001b[0m\u001b[1;33m,\u001b[0m \u001b[1;33m**\u001b[0m\u001b[0mself\u001b[0m\u001b[1;33m.\u001b[0m\u001b[0moptions\u001b[0m\u001b[1;33m)\u001b[0m\u001b[1;33m\u001b[0m\u001b[1;33m\u001b[0m\u001b[0m\n\u001b[0m\u001b[0;32m   1123\u001b[0m         \u001b[1;32melse\u001b[0m\u001b[1;33m:\u001b[0m\u001b[1;33m\u001b[0m\u001b[1;33m\u001b[0m\u001b[0m\n\u001b[0;32m   1124\u001b[0m             \u001b[1;32mif\u001b[0m \u001b[0mengine\u001b[0m \u001b[1;33m==\u001b[0m \u001b[1;34m'python'\u001b[0m\u001b[1;33m:\u001b[0m\u001b[1;33m\u001b[0m\u001b[1;33m\u001b[0m\u001b[0m\n",
      "\u001b[1;32mC:\\ProgramData\\Anaconda3\\lib\\site-packages\\pandas\\io\\parsers.py\u001b[0m in \u001b[0;36m__init__\u001b[1;34m(self, src, **kwds)\u001b[0m\n\u001b[0;32m   1851\u001b[0m         \u001b[0mkwds\u001b[0m\u001b[1;33m[\u001b[0m\u001b[1;34m'usecols'\u001b[0m\u001b[1;33m]\u001b[0m \u001b[1;33m=\u001b[0m \u001b[0mself\u001b[0m\u001b[1;33m.\u001b[0m\u001b[0musecols\u001b[0m\u001b[1;33m\u001b[0m\u001b[1;33m\u001b[0m\u001b[0m\n\u001b[0;32m   1852\u001b[0m \u001b[1;33m\u001b[0m\u001b[0m\n\u001b[1;32m-> 1853\u001b[1;33m         \u001b[0mself\u001b[0m\u001b[1;33m.\u001b[0m\u001b[0m_reader\u001b[0m \u001b[1;33m=\u001b[0m \u001b[0mparsers\u001b[0m\u001b[1;33m.\u001b[0m\u001b[0mTextReader\u001b[0m\u001b[1;33m(\u001b[0m\u001b[0msrc\u001b[0m\u001b[1;33m,\u001b[0m \u001b[1;33m**\u001b[0m\u001b[0mkwds\u001b[0m\u001b[1;33m)\u001b[0m\u001b[1;33m\u001b[0m\u001b[1;33m\u001b[0m\u001b[0m\n\u001b[0m\u001b[0;32m   1854\u001b[0m         \u001b[0mself\u001b[0m\u001b[1;33m.\u001b[0m\u001b[0munnamed_cols\u001b[0m \u001b[1;33m=\u001b[0m \u001b[0mself\u001b[0m\u001b[1;33m.\u001b[0m\u001b[0m_reader\u001b[0m\u001b[1;33m.\u001b[0m\u001b[0munnamed_cols\u001b[0m\u001b[1;33m\u001b[0m\u001b[1;33m\u001b[0m\u001b[0m\n\u001b[0;32m   1855\u001b[0m \u001b[1;33m\u001b[0m\u001b[0m\n",
      "\u001b[1;32mpandas/_libs/parsers.pyx\u001b[0m in \u001b[0;36mpandas._libs.parsers.TextReader.__cinit__\u001b[1;34m()\u001b[0m\n",
      "\u001b[1;32mpandas/_libs/parsers.pyx\u001b[0m in \u001b[0;36mpandas._libs.parsers.TextReader._setup_parser_source\u001b[1;34m()\u001b[0m\n",
      "\u001b[1;31mFileNotFoundError\u001b[0m: [Errno 2] File b'C:\\\\Users\\\\username\\\\.....\\\\filename.csv' does not exist: b'C:\\\\Users\\\\username\\\\.....\\\\filename.csv'"
     ]
    }
   ],
   "metadata": {}
  },
  {
   "cell_type": "markdown",
   "source": [
    "### From GitHub"
   ],
   "metadata": {}
  },
  {
   "cell_type": "code",
   "execution_count": null,
   "source": [
    "import pandas as pd\r\n",
    "github_url = 'https://raw.githubusercontent.com/username/...../filename.csv'\r\n",
    "df = pd.read_csv(github_url)"
   ],
   "outputs": [],
   "metadata": {}
  },
  {
   "cell_type": "markdown",
   "source": [
    "### From Azure data lake store file system"
   ],
   "metadata": {}
  },
  {
   "cell_type": "code",
   "execution_count": null,
   "source": [
    "from azure.datalake.store import core, lib, multithread\r\n",
    "import pandas as pd\r\n",
    "import os\r\n",
    "\r\n",
    "directory_id = 'xxx-xx-xxxx-xx-xxxx'\r\n",
    "application_key = 'xxxccxcs@#dsgfxxx'\r\n",
    "application_id = 'xxxx-xxxx-xx-xx-xxxxx'\r\n",
    "\r\n",
    "adls_cred = lib.auth(tenant_id = directory_id, client_secret= application_key, client_id= application_id)\r\n",
    "adls_name = \"storename\"\r\n",
    "adls_client = core.AzureDLFileSystem(adls_cred, store_name= adls_name)\r\n",
    "\r\n",
    "f = adls_client.open('.../../.../filename.csv', 'rb') # Path similar to local directory\r\n",
    "df = pd.read_csv(f)\r\n"
   ],
   "outputs": [],
   "metadata": {}
  },
  {
   "cell_type": "markdown",
   "source": [
    "<p><b>For more on reading csv and excel files go to following documentations </b></p>\n",
    "<p><a href=\"https://pandas.pydata.org/pandas-docs/stable/reference/api/pandas.read_csv.html\">pandas.read_csv</a></p>\n",
    "<p><a href=\"https://pandas.pydata.org/pandas-docs/stable/reference/api/pandas.read_excel.html\">pandas.read_excel</a></p>\n"
   ],
   "metadata": {}
  },
  {
   "cell_type": "markdown",
   "source": [
    "<h1>Creating DataFrame</h1>"
   ],
   "metadata": {}
  },
  {
   "cell_type": "markdown",
   "source": [
    "### From dictionary"
   ],
   "metadata": {}
  },
  {
   "cell_type": "code",
   "execution_count": null,
   "source": [
    "import pandas as pd\r\n",
    "sample_dict = {'id_col':[1,2,3,4], 'val_col': ['John', 'Jacob', 'Jingleheimer', 'Schmidt']}\r\n",
    "df_from_dict = pd.DataFrame(data= sample_dict) \r\n",
    "df_from_dict"
   ],
   "outputs": [
    {
     "output_type": "execute_result",
     "data": {
      "text/html": [
       "<div>\n",
       "<style scoped>\n",
       "    .dataframe tbody tr th:only-of-type {\n",
       "        vertical-align: middle;\n",
       "    }\n",
       "\n",
       "    .dataframe tbody tr th {\n",
       "        vertical-align: top;\n",
       "    }\n",
       "\n",
       "    .dataframe thead th {\n",
       "        text-align: right;\n",
       "    }\n",
       "</style>\n",
       "<table border=\"1\" class=\"dataframe\">\n",
       "  <thead>\n",
       "    <tr style=\"text-align: right;\">\n",
       "      <th></th>\n",
       "      <th>id_col</th>\n",
       "      <th>val_col</th>\n",
       "    </tr>\n",
       "  </thead>\n",
       "  <tbody>\n",
       "    <tr>\n",
       "      <td>0</td>\n",
       "      <td>1</td>\n",
       "      <td>John</td>\n",
       "    </tr>\n",
       "    <tr>\n",
       "      <td>1</td>\n",
       "      <td>2</td>\n",
       "      <td>Jacob</td>\n",
       "    </tr>\n",
       "    <tr>\n",
       "      <td>2</td>\n",
       "      <td>3</td>\n",
       "      <td>Jingleheimer</td>\n",
       "    </tr>\n",
       "    <tr>\n",
       "      <td>3</td>\n",
       "      <td>4</td>\n",
       "      <td>Schmidt</td>\n",
       "    </tr>\n",
       "  </tbody>\n",
       "</table>\n",
       "</div>"
      ],
      "text/plain": [
       "   id_col       val_col\n",
       "0       1          John\n",
       "1       2         Jacob\n",
       "2       3  Jingleheimer\n",
       "3       4       Schmidt"
      ]
     },
     "metadata": {},
     "execution_count": 42
    }
   ],
   "metadata": {}
  },
  {
   "cell_type": "markdown",
   "source": [
    "### From numpy array"
   ],
   "metadata": {}
  },
  {
   "cell_type": "code",
   "execution_count": null,
   "source": [
    "import pandas as pd\r\n",
    "import numpy as np\r\n",
    "df_from_numpy = pd.DataFrame(np.array([[1, 12, 'John'], [4, 13, 'Jacob'], [7, 10, 'Jingleheimer']]),\r\n",
    "                             columns=['id', 'age', 'name'])\r\n",
    "df_from_numpy"
   ],
   "outputs": [
    {
     "output_type": "execute_result",
     "data": {
      "text/html": [
       "<div>\n",
       "<style scoped>\n",
       "    .dataframe tbody tr th:only-of-type {\n",
       "        vertical-align: middle;\n",
       "    }\n",
       "\n",
       "    .dataframe tbody tr th {\n",
       "        vertical-align: top;\n",
       "    }\n",
       "\n",
       "    .dataframe thead th {\n",
       "        text-align: right;\n",
       "    }\n",
       "</style>\n",
       "<table border=\"1\" class=\"dataframe\">\n",
       "  <thead>\n",
       "    <tr style=\"text-align: right;\">\n",
       "      <th></th>\n",
       "      <th>id</th>\n",
       "      <th>age</th>\n",
       "      <th>name</th>\n",
       "    </tr>\n",
       "  </thead>\n",
       "  <tbody>\n",
       "    <tr>\n",
       "      <th>0</th>\n",
       "      <td>1</td>\n",
       "      <td>12</td>\n",
       "      <td>John</td>\n",
       "    </tr>\n",
       "    <tr>\n",
       "      <th>1</th>\n",
       "      <td>4</td>\n",
       "      <td>13</td>\n",
       "      <td>Jacob</td>\n",
       "    </tr>\n",
       "    <tr>\n",
       "      <th>2</th>\n",
       "      <td>7</td>\n",
       "      <td>10</td>\n",
       "      <td>Jingleheimer</td>\n",
       "    </tr>\n",
       "  </tbody>\n",
       "</table>\n",
       "</div>"
      ],
      "text/plain": [
       "  id age          name\n",
       "0  1  12          John\n",
       "1  4  13         Jacob\n",
       "2  7  10  Jingleheimer"
      ]
     },
     "metadata": {},
     "execution_count": 8
    }
   ],
   "metadata": {}
  },
  {
   "cell_type": "markdown",
   "source": [
    "<h1>Drop column by Column Name</h1>\n",
    "<p><a href=\"https://pandas.pydata.org/pandas-docs/stable/reference/api/pandas.DataFrame.drop.html?highlight=drop#pandas.DataFrame.drop\">pandas.DataFrame.drop</a></p>"
   ],
   "metadata": {}
  },
  {
   "cell_type": "code",
   "execution_count": null,
   "source": [
    "import pandas as pd\r\n",
    "import numpy as np\r\n",
    "sample_dict = {'id':np.arange(start = 1, stop = 5), \r\n",
    "               'name': ['John', 'Jacob', 'Jingleheimer', 'Schmidt'],\r\n",
    "               'age':np.random.randint(low=0, high = 5, size = 4)}\r\n",
    "df_from_dict = pd.DataFrame(data= sample_dict) \r\n",
    "df_col_dropped = df_from_dict.drop(['age'] , axis =1)\r\n",
    "\r\n",
    "print(\"Before\\n\")\r\n",
    "print(df_from_dict.head())\r\n",
    "\r\n",
    "print(\"After Drop\\n\")\r\n",
    "print(df_col_dropped.head())\r\n"
   ],
   "outputs": [
    {
     "output_type": "stream",
     "name": "stdout",
     "text": [
      "Before\n",
      "\n",
      "   id          name  age\n",
      "0   1          John    4\n",
      "1   2         Jacob    4\n",
      "2   3  Jingleheimer    3\n",
      "3   4       Schmidt    3\n",
      "After Drop\n",
      "\n",
      "   id          name\n",
      "0   1          John\n",
      "1   2         Jacob\n",
      "2   3  Jingleheimer\n",
      "3   4       Schmidt\n"
     ]
    }
   ],
   "metadata": {}
  },
  {
   "cell_type": "markdown",
   "source": [
    "<h1>Drop multiple columns by Name</h1>"
   ],
   "metadata": {}
  },
  {
   "cell_type": "code",
   "execution_count": null,
   "source": [
    "import pandas as pd\r\n",
    "import numpy as np\r\n",
    "sample_dict = {'id':np.arange(start = 1, stop = 5), \r\n",
    "               'name': ['John', 'Jacob', 'Jingleheimer', 'Schmidt'],\r\n",
    "               'age':np.random.randint(low=0, high = 5, size = 4),\r\n",
    "              'height': np.random.randint(20,30,size=4)}\r\n",
    "df_from_dict = pd.DataFrame(data= sample_dict) \r\n",
    "\r\n",
    "df_col_dropped = df_from_dict.drop(['age', 'height'] , axis =1)\r\n",
    "\r\n",
    "print(\"Before\\n\")\r\n",
    "print(df_from_dict.head())\r\n",
    "\r\n",
    "print(\"\\nAfter Drop\\n\")\r\n",
    "print(df_col_dropped.head())"
   ],
   "outputs": [
    {
     "output_type": "stream",
     "name": "stdout",
     "text": [
      "Before\n",
      "\n",
      "   id          name  age  height\n",
      "0   1          John    1      24\n",
      "1   2         Jacob    2      25\n",
      "2   3  Jingleheimer    4      25\n",
      "3   4       Schmidt    1      20\n",
      "\n",
      "After Drop\n",
      "\n",
      "   id          name\n",
      "0   1          John\n",
      "1   2         Jacob\n",
      "2   3  Jingleheimer\n",
      "3   4       Schmidt\n"
     ]
    }
   ],
   "metadata": {}
  },
  {
   "cell_type": "markdown",
   "source": [
    "<h1>Filter DF by value(s) in column</h1>"
   ],
   "metadata": {}
  },
  {
   "cell_type": "code",
   "execution_count": null,
   "source": [
    "import pandas as pd\r\n",
    "import numpy as np\r\n",
    "sample_dict = {'id':np.arange(start = 1, stop = 5), \r\n",
    "               'name': ['John', 'Jacob', 'Jingleheimer', 'Schmidt'],\r\n",
    "               'age':np.random.randint(low=0, high = 5, size = 4),\r\n",
    "              'height': np.random.randint(20,30,size=4)}\r\n",
    "df = pd.DataFrame(data= sample_dict) \r\n",
    "\r\n",
    "val_list = ['John', 'Jacob']\r\n",
    "\r\n",
    "filtered_df = df[df['name'].isin(val_list)]\r\n",
    "print(\"Before\\n\")\r\n",
    "print(df)\r\n",
    "\r\n",
    "print('\\nAfter\\n')\r\n",
    "print(filtered_df)"
   ],
   "outputs": [
    {
     "output_type": "stream",
     "name": "stdout",
     "text": [
      "Before\n",
      "\n",
      "   id          name  age  height\n",
      "0   1          John    1      27\n",
      "1   2         Jacob    1      24\n",
      "2   3  Jingleheimer    1      24\n",
      "3   4       Schmidt    3      23\n",
      "\n",
      "After\n",
      "\n",
      "   id   name  age  height\n",
      "0   1   John    1      27\n",
      "1   2  Jacob    1      24\n"
     ]
    }
   ],
   "metadata": {}
  },
  {
   "cell_type": "markdown",
   "source": [
    "<h1>File System Operation in Azure Data Lake Store</h1>"
   ],
   "metadata": {}
  },
  {
   "cell_type": "code",
   "execution_count": null,
   "source": [
    "from azure.datalake.store import core, lib, multithread\r\n",
    "import pandas as pd\r\n",
    "import os\r\n",
    "\r\n",
    "directory_id = 'xxx-xx-xxxx-xx-xxxx'\r\n",
    "application_key = 'xxxccxcs@#dsgfxxx'\r\n",
    "application_id = 'xxxx-xxxx-xx-xx-xxxxx'\r\n",
    "\r\n",
    "adls_cred = lib.auth(tenant_id = directory_id, client_secret= application_key, client_id= application_id)\r\n",
    "adls_name = \"storename\"\r\n",
    "adls_client = core.AzureDLFileSystem(adls_cred, store_name= adls_name)\r\n"
   ],
   "outputs": [],
   "metadata": {}
  },
  {
   "cell_type": "markdown",
   "source": [
    "### Create a directory"
   ],
   "metadata": {}
  },
  {
   "cell_type": "code",
   "execution_count": null,
   "source": [
    "adls_client.mkdir('/newfolder')"
   ],
   "outputs": [],
   "metadata": {}
  },
  {
   "cell_type": "markdown",
   "source": [
    "### Upload a file in Azure Data Lake Store"
   ],
   "metadata": {}
  },
  {
   "cell_type": "code",
   "execution_count": null,
   "source": [
    "multithread.ADLUploader(adls_client, lpath=\"C:\\\\.....\\\\file.csv\", rpath=\"/newfolder/file.csv\", nthreads=64, overwrite=True, buffersize=4194304, blocksize=4194304)"
   ],
   "outputs": [],
   "metadata": {}
  },
  {
   "cell_type": "markdown",
   "source": [
    "### Download a file from Azure Data Lake Store"
   ],
   "metadata": {}
  },
  {
   "cell_type": "code",
   "execution_count": null,
   "source": [
    "multithread.ADLDownloader(adls_client, lpath='C:\\\\user.....\\\\mysamplefile.txt.out', rpath='/newfolder/mysamplefile.txt', nthreads=64, overwrite=True, buffersize=4194304, blocksize=4194304)"
   ],
   "outputs": [],
   "metadata": {}
  },
  {
   "cell_type": "markdown",
   "source": [
    "### Delete a directory"
   ],
   "metadata": {}
  },
  {
   "cell_type": "code",
   "execution_count": null,
   "source": [
    "adlsFileSystemClient.rm('/newfolder', recursive=True)"
   ],
   "outputs": [],
   "metadata": {}
  },
  {
   "cell_type": "markdown",
   "source": [
    "<h1>Convert DataFrame to csv</h1>\n",
    "<p><a href=\"https://pandas.pydata.org/pandas-docs/stable/reference/api/pandas.DataFrame.to_csv.html\">pandas.DataFrame.to_csv</a></p>"
   ],
   "metadata": {}
  },
  {
   "cell_type": "code",
   "execution_count": null,
   "source": [
    "import pandas as pd\r\n",
    "import numpy as np\r\n",
    "sample_dict = {'id':np.arange(start = 1, stop = 5), \r\n",
    "               'name': ['John', 'Jacob', 'Jingleheimer', 'Schmidt'],\r\n",
    "               'age':np.random.randint(low=0, high = 5, size = 4),\r\n",
    "              'height': np.random.randint(20,30,size=4)}\r\n",
    "df = pd.DataFrame(data= sample_dict) \r\n",
    "\r\n",
    "output_path = r'C:\\User\\...\\...\\filename.csv'\r\n",
    "df.to_csv(output_path, index= False) \r\n"
   ],
   "outputs": [],
   "metadata": {}
  },
  {
   "cell_type": "markdown",
   "source": [
    "<h1>Combining multiple DataFrames </h1>\n",
    "<p><a href=\"https://pandas.pydata.org/pandas-docs/stable/reference/api/pandas.concat.html?highlight=concat#pandas.concat\">pandas.concat</a></p>"
   ],
   "metadata": {}
  },
  {
   "cell_type": "markdown",
   "source": [
    "### Appending rows between two or more DF"
   ],
   "metadata": {}
  },
  {
   "cell_type": "code",
   "execution_count": null,
   "source": [
    "import pandas as pd\r\n",
    "import numpy as np\r\n",
    "\r\n",
    "df1 = pd.DataFrame(np.array([[1,'john'], [2,'jacob']]),\r\n",
    "                  columns=['id','name'])\r\n",
    "df2 = pd.DataFrame(np.array([[3,'Jingleheimer'], [4,'Schmidt']]),\r\n",
    "                  columns=['id','name'])\r\n",
    "combined_df = pd.concat([df1, df2], ignore_index=True)\r\n",
    "\r\n",
    "print('\\ndf1\\n',df1)\r\n",
    "print('\\ndf2\\n',df2)\r\n",
    "\r\n",
    "print('\\nAfter concatening two dataframes\\n',co)"
   ],
   "outputs": [
    {
     "output_type": "stream",
     "name": "stdout",
     "text": [
      "\n",
      "df1\n",
      "   id   name\n",
      "0  1   john\n",
      "1  2  jacob\n",
      "\n",
      "df2\n",
      "   id          name\n",
      "0  3  Jingleheimer\n",
      "1  4       Schmidt\n",
      "\n",
      "After concatening two dataframes\n",
      "   id          name\n",
      "0  1          john\n",
      "1  2         jacob\n",
      "2  3  Jingleheimer\n",
      "3  4       Schmidt\n"
     ]
    }
   ],
   "metadata": {}
  },
  {
   "cell_type": "markdown",
   "source": [
    "### Combining DataFrames when only some attributes match"
   ],
   "metadata": {}
  },
  {
   "cell_type": "code",
   "execution_count": null,
   "source": [
    "import pandas as pd\r\n",
    "import numpy as np\r\n",
    "\r\n",
    "df1 = pd.DataFrame(np.array([[1,'john',5], [2,'jacob',2]]),\r\n",
    "                  columns=['id','name','age'])\r\n",
    "df2 = pd.DataFrame(np.array([[3,'Jingleheimer'], [4,'Schmidt']]),\r\n",
    "                  columns=['id','name'])\r\n",
    "\r\n",
    "combined_df = pd.concat([df1, df2], sort=False)\r\n",
    "print('\\ndf1\\n',df1)\r\n",
    "print('\\ndf2\\n',df2)\r\n",
    "print('\\nCompare two dataframes. df1 has 3 attributes. df2 is missing age')\r\n",
    "\r\n",
    "print('\\nAfter concatening two dataframes\\n',combined_df)\r\n",
    "print('\\nThe output will add NaN for age attrubute')"
   ],
   "outputs": [
    {
     "output_type": "stream",
     "name": "stdout",
     "text": [
      "\n",
      "df1\n",
      "   id   name age\n",
      "0  1   john   5\n",
      "1  2  jacob   2\n",
      "\n",
      "df2\n",
      "   id          name\n",
      "0  3  Jingleheimer\n",
      "1  4       Schmidt\n",
      "\n",
      "Compare two dataframes. df1 has 3 attributes. df2 is missing age\n",
      "\n",
      "After concatening two dataframes\n",
      "   id          name  age\n",
      "0  1          john    5\n",
      "1  2         jacob    2\n",
      "0  3  Jingleheimer  NaN\n",
      "1  4       Schmidt  NaN\n",
      "\n",
      "The output will add NaN for age attrubute\n"
     ]
    }
   ],
   "metadata": {}
  },
  {
   "cell_type": "markdown",
   "source": [
    "Combine DataFrames and return only attrubutes that are shared by both DataFrames "
   ],
   "metadata": {}
  },
  {
   "cell_type": "code",
   "execution_count": null,
   "source": [
    "import pandas as pd\r\n",
    "import numpy as np\r\n",
    "\r\n",
    "df1 = pd.DataFrame(np.array([[1,'john',5], [2,'jacob',2]]),\r\n",
    "                  columns=['id','name','age'])\r\n",
    "df2 = pd.DataFrame(np.array([[3,'Jingleheimer'], [4,'Schmidt']]),\r\n",
    "                  columns=['id','name'])\r\n",
    "\r\n",
    "combined_df = pd.concat([df1, df2], join= 'inner')\r\n",
    "print('\\ndf1\\n',df1)\r\n",
    "print('\\ndf2\\n',df2)\r\n",
    "print('\\nCompare two dataframes. df1 has 3 attributes. df2 is missing age')\r\n",
    "\r\n",
    "print('\\nAfter concatening two dataframes\\n',combined_df)\r\n",
    "print('\\nThe output ignores the age attribute as the second dataframe is missing that attribute')"
   ],
   "outputs": [
    {
     "output_type": "stream",
     "name": "stdout",
     "text": [
      "\n",
      "df1\n",
      "   id   name age\n",
      "0  1   john   5\n",
      "1  2  jacob   2\n",
      "\n",
      "df2\n",
      "   id          name\n",
      "0  3  Jingleheimer\n",
      "1  4       Schmidt\n",
      "\n",
      "Compare two dataframes. df1 has 3 attributes. df2 is missing age\n",
      "\n",
      "After concatening two dataframes\n",
      "   id          name\n",
      "0  1          john\n",
      "1  2         jacob\n",
      "0  3  Jingleheimer\n",
      "1  4       Schmidt\n",
      "\n",
      "The output ignores the age attribute as the second dataframe is missing that attribute\n"
     ]
    }
   ],
   "metadata": {}
  },
  {
   "cell_type": "markdown",
   "source": [
    "### Combining Dataframes horizontally"
   ],
   "metadata": {}
  },
  {
   "cell_type": "code",
   "execution_count": null,
   "source": [
    "import pandas as pd\r\n",
    "import numpy as np\r\n",
    "\r\n",
    "df1 = pd.DataFrame(np.array([[1,'john'], [2,'jacob'],[3,'Jingleheimer'], [4,'Schmidt']]),\r\n",
    "                  columns=['id','name'])\r\n",
    "df2 = pd.DataFrame(np.array([[5,'male'],[4,'male'],[3,'male'],[6,'female']]),\r\n",
    "                  columns=['age','gender'])\r\n",
    "\r\n",
    "combined_df = pd.concat([df1, df2], axis=1)\r\n",
    "print('\\ndf1\\n',df1)\r\n",
    "print('\\ndf2\\n',df2)\r\n",
    "\r\n",
    "print('\\nAfter concatening two dataframes\\n',combined_df)\r\n",
    "print('\\nBased on the concatnation the new attributes from df2 are added horizontally')"
   ],
   "outputs": [
    {
     "output_type": "stream",
     "name": "stdout",
     "text": [
      "\n",
      "df1\n",
      "   id          name\n",
      "0  1          john\n",
      "1  2         jacob\n",
      "2  3  Jingleheimer\n",
      "3  4       Schmidt\n",
      "\n",
      "df2\n",
      "   age  gender\n",
      "0   5    male\n",
      "1   4    male\n",
      "2   3    male\n",
      "3   6  female\n",
      "\n",
      "After concatening two dataframes\n",
      "   id          name age  gender\n",
      "0  1          john   5    male\n",
      "1  2         jacob   4    male\n",
      "2  3  Jingleheimer   3    male\n",
      "3  4       Schmidt   6  female\n",
      "\n",
      "Based on the concatnation the new attributes from df2 are added horizontally\n"
     ]
    }
   ],
   "metadata": {}
  },
  {
   "cell_type": "markdown",
   "source": [
    "<h1>Set Index from column</h1>\n"
   ],
   "metadata": {}
  },
  {
   "cell_type": "code",
   "execution_count": null,
   "source": [
    "import pandas as pd\r\n",
    "import numpy as np\r\n",
    "sample_dict = {'id':np.arange(start = 100, stop = 104, step = 1), \r\n",
    "               'name': ['John', 'Jacob', 'Jingleheimer', 'Schmidt'],\r\n",
    "               'age':np.random.randint(low=0, high = 5, size = 4),\r\n",
    "              'height': np.random.randint(20,30,size=4)}\r\n",
    "df = pd.DataFrame(data= sample_dict) \r\n",
    "print('\\nBefore\\n',df)\r\n",
    "print('\\nAfter\\n',df.set_index('id'))"
   ],
   "outputs": [
    {
     "output_type": "stream",
     "name": "stdout",
     "text": [
      "\n",
      "Before\n",
      "     id          name  age  height\n",
      "0  100          John    2      20\n",
      "1  101         Jacob    3      25\n",
      "2  102  Jingleheimer    4      23\n",
      "3  103       Schmidt    1      24\n",
      "\n",
      "After\n",
      "              name  age  height\n",
      "id                            \n",
      "100          John    2      20\n",
      "101         Jacob    3      25\n",
      "102  Jingleheimer    4      23\n",
      "103       Schmidt    1      24\n"
     ]
    }
   ],
   "metadata": {}
  },
  {
   "cell_type": "markdown",
   "source": [
    "<h1>Joining DataFrames</h1>"
   ],
   "metadata": {}
  },
  {
   "cell_type": "code",
   "execution_count": null,
   "source": [
    "import pandas as pd\r\n",
    "import numpy as np\r\n",
    "\r\n",
    "df1 = pd.DataFrame(np.array([[1,'john'], [2,'jacob'],[3,'Jingleheimer'], [4,'Schmidt']]),\r\n",
    "                  columns=['id','name'])\r\n",
    "df2 = pd.DataFrame(np.array([[1, 5,'male'],[2, 4,'male'],[3, 3,'male'],[4, 6,'female']]),\r\n",
    "                  columns=['id','age','gender'])\r\n",
    "\r\n",
    "combined_df = df1.join(df2, lsuffix='_left', rsuffix='_right')\r\n",
    "print('\\ndf1\\n',df1)\r\n",
    "print('\\ndf2\\n',df2)\r\n",
    "\r\n",
    "print('\\nAfter joining two dataframes\\n',combined_df)\r\n",
    "print('\\nBased on the join operation new attributes from df2 are added horizontally. However we have duplicat ids')\r\n"
   ],
   "outputs": [
    {
     "output_type": "stream",
     "name": "stdout",
     "text": [
      "\n",
      "df1\n",
      "   id          name\n",
      "0  1          john\n",
      "1  2         jacob\n",
      "2  3  Jingleheimer\n",
      "3  4       Schmidt\n",
      "\n",
      "df2\n",
      "   id age  gender\n",
      "0  1   5    male\n",
      "1  2   4    male\n",
      "2  3   3    male\n",
      "3  4   6  female\n",
      "\n",
      "After joining two dataframes\n",
      "   id_left          name id_right age  gender\n",
      "0       1          john        1   5    male\n",
      "1       2         jacob        2   4    male\n",
      "2       3  Jingleheimer        3   3    male\n",
      "3       4       Schmidt        4   6  female\n",
      "\n",
      "Based on the join operation new attributes from df2 are added horizontally. However we have duplicat ids\n"
     ]
    }
   ],
   "metadata": {}
  },
  {
   "cell_type": "code",
   "execution_count": null,
   "source": [
    "import pandas as pd\r\n",
    "import numpy as np\r\n",
    "\r\n",
    "df1 = pd.DataFrame(np.array([[1,'john'], [2,'jacob'],[3,'Jingleheimer'], [4,'Schmidt']]),\r\n",
    "                  columns=['id','name'])\r\n",
    "df2 = pd.DataFrame(np.array([[1, 5,'male'],[2, 4,'male'],[3, 3,'male'],[4, 6,'female']]),\r\n",
    "                  columns=['id','age','gender'])\r\n",
    "\r\n",
    "combined_df = df1.join(df2.set_index('id'), on ='id')\r\n",
    "print('\\ndf1\\n',df1)\r\n",
    "print('\\ndf2\\n',df2)\r\n",
    "\r\n",
    "print('\\nAfter joining two dataframes\\n',combined_df)\r\n",
    "print('\\nBased on the join the new attributes from df2 are added horizontally. Also now we do not nave to worry about duplicate id')\r\n"
   ],
   "outputs": [
    {
     "output_type": "stream",
     "name": "stdout",
     "text": [
      "\n",
      "df1\n",
      "   id          name\n",
      "0  1          john\n",
      "1  2         jacob\n",
      "2  3  Jingleheimer\n",
      "3  4       Schmidt\n",
      "\n",
      "df2\n",
      "   id age  gender\n",
      "0  1   5    male\n",
      "1  2   4    male\n",
      "2  3   3    male\n",
      "3  4   6  female\n",
      "\n",
      "After joining two dataframes\n",
      "   id          name age  gender\n",
      "0  1          john   5    male\n",
      "1  2         jacob   4    male\n",
      "2  3  Jingleheimer   3    male\n",
      "3  4       Schmidt   6  female\n",
      "\n",
      "Based on the join the new attributes from df2 are added horizontally. Also now we do not nave to worry about duplicate id\n"
     ]
    }
   ],
   "metadata": {}
  },
  {
   "cell_type": "markdown",
   "source": [
    "<h1>Converting JSON to DataFrame</h1>\n",
    "<p><a href=\"https://pandas.pydata.org/pandas-docs/stable/reference/api/pandas.read_json.html\">pandas.read_json</a></p>\n",
    "<p><a href=\"https://pandas.pydata.org/pandas-docs/stable/reference/api/pandas.json_normalize.html\">pandas.io.json.json_normalize</a></p>"
   ],
   "metadata": {}
  },
  {
   "cell_type": "code",
   "execution_count": null,
   "source": [
    "from pandas.io.json import json_normalize\r\n",
    "data = [{'Country': 'Nepal',\r\n",
    "          'ShortName': 'NP',\r\n",
    "          'OtherInfo': {\r\n",
    "               'GovType': 'Democracy',\r\n",
    "              'HeadState': 'Prime Minister'\r\n",
    "          },\r\n",
    "          'District/State/Province': [{'name': 'Kathmandu', 'population': 12345},\r\n",
    "                      {'name': 'Morang', 'population': 40000},\r\n",
    "                      {'name': 'Sunsari', 'population': 60000}]},\r\n",
    "         {'Country': 'India',\r\n",
    "          'ShortName': 'IN',\r\n",
    "          'OtherInfo': {\r\n",
    "               'GovType': 'Democracy',\r\n",
    "              'HeadState': 'President'\r\n",
    "          },\r\n",
    "          'District/State/Province': [{'name': 'Bihar', 'population': 1234},\r\n",
    "                       {'name': 'UP', 'population': 1337}]}]\r\n",
    "\r\n",
    "\r\n",
    "\r\n",
    "df = json_normalize(data, 'District/State/Province', ['Country', 'ShortName', \r\n",
    "                                                      ['OtherInfo', 'GovType'],\r\n",
    "                                                     ['OtherInfo', 'HeadState']])\r\n",
    "df"
   ],
   "outputs": [
    {
     "output_type": "execute_result",
     "data": {
      "text/html": [
       "<div>\n",
       "<style scoped>\n",
       "    .dataframe tbody tr th:only-of-type {\n",
       "        vertical-align: middle;\n",
       "    }\n",
       "\n",
       "    .dataframe tbody tr th {\n",
       "        vertical-align: top;\n",
       "    }\n",
       "\n",
       "    .dataframe thead th {\n",
       "        text-align: right;\n",
       "    }\n",
       "</style>\n",
       "<table border=\"1\" class=\"dataframe\">\n",
       "  <thead>\n",
       "    <tr style=\"text-align: right;\">\n",
       "      <th></th>\n",
       "      <th>name</th>\n",
       "      <th>population</th>\n",
       "      <th>Country</th>\n",
       "      <th>ShortName</th>\n",
       "      <th>OtherInfo.GovType</th>\n",
       "      <th>OtherInfo.HeadState</th>\n",
       "    </tr>\n",
       "  </thead>\n",
       "  <tbody>\n",
       "    <tr>\n",
       "      <td>0</td>\n",
       "      <td>Kathmandu</td>\n",
       "      <td>12345</td>\n",
       "      <td>Nepal</td>\n",
       "      <td>NP</td>\n",
       "      <td>Democracy</td>\n",
       "      <td>Prime Minister</td>\n",
       "    </tr>\n",
       "    <tr>\n",
       "      <td>1</td>\n",
       "      <td>Morang</td>\n",
       "      <td>40000</td>\n",
       "      <td>Nepal</td>\n",
       "      <td>NP</td>\n",
       "      <td>Democracy</td>\n",
       "      <td>Prime Minister</td>\n",
       "    </tr>\n",
       "    <tr>\n",
       "      <td>2</td>\n",
       "      <td>Sunsari</td>\n",
       "      <td>60000</td>\n",
       "      <td>Nepal</td>\n",
       "      <td>NP</td>\n",
       "      <td>Democracy</td>\n",
       "      <td>Prime Minister</td>\n",
       "    </tr>\n",
       "    <tr>\n",
       "      <td>3</td>\n",
       "      <td>Bihar</td>\n",
       "      <td>1234</td>\n",
       "      <td>India</td>\n",
       "      <td>IN</td>\n",
       "      <td>Democracy</td>\n",
       "      <td>President</td>\n",
       "    </tr>\n",
       "    <tr>\n",
       "      <td>4</td>\n",
       "      <td>UP</td>\n",
       "      <td>1337</td>\n",
       "      <td>India</td>\n",
       "      <td>IN</td>\n",
       "      <td>Democracy</td>\n",
       "      <td>President</td>\n",
       "    </tr>\n",
       "  </tbody>\n",
       "</table>\n",
       "</div>"
      ],
      "text/plain": [
       "        name  population Country ShortName OtherInfo.GovType  \\\n",
       "0  Kathmandu       12345   Nepal        NP         Democracy   \n",
       "1     Morang       40000   Nepal        NP         Democracy   \n",
       "2    Sunsari       60000   Nepal        NP         Democracy   \n",
       "3      Bihar        1234   India        IN         Democracy   \n",
       "4         UP        1337   India        IN         Democracy   \n",
       "\n",
       "  OtherInfo.HeadState  \n",
       "0      Prime Minister  \n",
       "1      Prime Minister  \n",
       "2      Prime Minister  \n",
       "3           President  \n",
       "4           President  "
      ]
     },
     "metadata": {},
     "execution_count": 12
    }
   ],
   "metadata": {}
  },
  {
   "cell_type": "markdown",
   "source": [
    "<h1>Downloading saving .tgz (TAR) file</h1>\n",
    "<p><a href=\"https://docs.python.org/2/library/tarfile.html\">tarfile</a></p>"
   ],
   "metadata": {}
  },
  {
   "cell_type": "code",
   "execution_count": null,
   "source": [
    "import os\r\n",
    "import tarfile\r\n",
    "from six.moves import urllib\r\n",
    "\r\n",
    "DOWNLOAD_ROOT = \"https://www.website.com/...\"\r\n",
    "FILE_PATH = os.path.join(\"dataset\",\"folder\")\r\n",
    "FILE_URL = DOWNLOAD_ROOT + \"datasets/folder/file.tgz\"\r\n",
    "\r\n",
    "def fetch_data(file_url = FILE_URL, file_path = FILE_PATH):\r\n",
    "    if not os.path.isdir(file_path):\r\n",
    "        os.makedirs(file_path)\r\n",
    "    tgz_path = os.path.join(file_path, \"file.tgz\")\r\n",
    "    urllib.request.urlretrieve(file_path, tgz_path)\r\n",
    "    file_tgz = tarfile.open(tgz_path)\r\n",
    "    file_tgz.extractall(path = file_path)\r\n",
    "    file_tgz.close()\r\n",
    "\r\n",
    "fetch_data()"
   ],
   "outputs": [],
   "metadata": {}
  },
  {
   "cell_type": "markdown",
   "source": [
    "<h1>Ordinal Encoding</h1>\n",
    "<p><a href=\"https://scikit-learn.org/stable/modules/generated/sklearn.preprocessing.OrdinalEncoder.html\">sklearn.preprocessing.OrdinalEncoder</a></p>"
   ],
   "metadata": {}
  },
  {
   "cell_type": "markdown",
   "source": [
    "### Encoding single column"
   ],
   "metadata": {}
  },
  {
   "cell_type": "code",
   "execution_count": null,
   "source": [
    "import pandas as pd\r\n",
    "import numpy as np\r\n",
    "from sklearn.preprocessing import OrdinalEncoder\r\n",
    "from pandas.io.json import json_normalize\r\n",
    "\r\n",
    "data = [{'Country': 'Nepal',\r\n",
    "          'ShortName': 'NP',\r\n",
    "          'OtherInfo': {\r\n",
    "               'GovType': 'Democracy',\r\n",
    "              'HeadState': 'Prime Minister'\r\n",
    "          },\r\n",
    "          'District/State/Province': [{'name': 'Kathmandu', 'population': 12345},\r\n",
    "                      {'name': 'Morang', 'population': 40000},\r\n",
    "                      {'name': 'Sunsari', 'population': 60000}]},\r\n",
    "         {'Country': 'India',\r\n",
    "          'ShortName': 'IN',\r\n",
    "          'OtherInfo': {\r\n",
    "               'GovType': 'Democracy',\r\n",
    "              'HeadState': 'President'\r\n",
    "          },\r\n",
    "          'District/State/Province': [{'name': 'Bihar', 'population': 1234},\r\n",
    "                       {'name': 'UP', 'population': 1337}]}]\r\n",
    "\r\n",
    "\r\n",
    "\r\n",
    "df = json_normalize(data, 'District/State/Province', ['Country', 'ShortName'])\r\n",
    "print('Before')\r\n",
    "print(df)\r\n",
    "\r\n",
    "ordinal_encoder = OrdinalEncoder()\r\n",
    "encoded_data = ordinal_encoder.fit_transform(df[['Country']])\r\n",
    "print(encoded_data)\r\n",
    "\r\n",
    "# To add the encoded value to the existing dataframe...\r\n",
    "df_encoded = df.copy()\r\n",
    "df_encoded['country_encoded'] = encoded_data\r\n",
    "print('\\nAfter ')\r\n",
    "print(df_encoded)\r\n",
    "print('\\nView encoced categories run ordinal_encoder.categories_\\n')\r\n",
    "print(ordinal_encoder.categories_)"
   ],
   "outputs": [
    {
     "output_type": "stream",
     "name": "stdout",
     "text": [
      "Before\n",
      "        name  population Country ShortName\n",
      "0  Kathmandu       12345   Nepal        NP\n",
      "1     Morang       40000   Nepal        NP\n",
      "2    Sunsari       60000   Nepal        NP\n",
      "3      Bihar        1234   India        IN\n",
      "4         UP        1337   India        IN\n",
      "[[1.]\n",
      " [1.]\n",
      " [1.]\n",
      " [0.]\n",
      " [0.]]\n",
      "\n",
      "To add the encoded value to the existing dataframe...\n",
      "\n",
      "After \n",
      "        name  population Country ShortName  country_encoded\n",
      "0  Kathmandu       12345   Nepal        NP              1.0\n",
      "1     Morang       40000   Nepal        NP              1.0\n",
      "2    Sunsari       60000   Nepal        NP              1.0\n",
      "3      Bihar        1234   India        IN              0.0\n",
      "4         UP        1337   India        IN              0.0\n",
      "\n",
      "View encoced categories run ordinal_encoder.categories_\n",
      "\n",
      "[array(['India', 'Nepal'], dtype=object)]\n"
     ]
    }
   ],
   "metadata": {}
  },
  {
   "cell_type": "markdown",
   "source": [
    "### Encoding Multiple column"
   ],
   "metadata": {}
  },
  {
   "cell_type": "code",
   "execution_count": null,
   "source": [
    "from pandas.io.json import json_normalize\r\n",
    "import pandas as pd\r\n",
    "import numpy as np\r\n",
    "from sklearn.preprocessing import OrdinalEncoder\r\n",
    "\r\n",
    "data = [{'Country': 'Nepal',\r\n",
    "          'ShortName': 'NP',\r\n",
    "          'OtherInfo': {\r\n",
    "               'GovType': 'Democracy',\r\n",
    "              'HeadState': 'Prime Minister'\r\n",
    "          },\r\n",
    "          'District/State/Province': [{'name': 'Kathmandu', 'population': 12345},\r\n",
    "                      {'name': 'Morang', 'population': 40000},\r\n",
    "                      {'name': 'Sunsari', 'population': 60000}]},\r\n",
    "         {'Country': 'India',\r\n",
    "          'ShortName': 'IN',\r\n",
    "          'OtherInfo': {\r\n",
    "               'GovType': 'Democracy',\r\n",
    "              'HeadState': 'President'\r\n",
    "          },\r\n",
    "          'District/State/Province': [{'name': 'Bihar', 'population': 1234},\r\n",
    "                       {'name': 'UP', 'population': 1337}]}]\r\n",
    "\r\n",
    "\r\n",
    "\r\n",
    "df = json_normalize(data, 'District/State/Province', ['Country', \r\n",
    "                                                      ['OtherInfo', 'GovType'],\r\n",
    "                                                     ['OtherInfo', 'HeadState']])\r\n",
    "print(\"Before Ordinal Encoding\")\r\n",
    "print(df)\r\n",
    "\r\n",
    "ordinal_cat = ['Country', 'OtherInfo.GovType', 'OtherInfo.HeadState']\r\n",
    "print('\\nLook to encode following categories', ordinal_cat)\r\n",
    "\r\n",
    "ordinal_encoder = OrdinalEncoder()\r\n",
    "encoded_data = ordinal_encoder.fit_transform(df[ordinal_cat])\r\n",
    "print(encoded_data)\r\n",
    "# To add encoded value as seperate columns\r\n",
    "df_new_values = pd.DataFrame(encoded_data, columns= [str(ordinal_cat[i])+'_encoded' for i in range(len(ordinal_cat))])\r\n",
    "df_encoded = pd.concat([df,df_new_values], axis =1)\r\n",
    "print('\\nAfter')\r\n",
    "print(df_encoded)\r\n",
    "print('\\nView encoded categories')\r\n",
    "print(ordinal_encoder.categories_)"
   ],
   "outputs": [
    {
     "output_type": "stream",
     "name": "stdout",
     "text": [
      "Before Ordinal Encoding\n",
      "        name  population Country OtherInfo.GovType OtherInfo.HeadState\n",
      "0  Kathmandu       12345   Nepal         Democracy      Prime Minister\n",
      "1     Morang       40000   Nepal         Democracy      Prime Minister\n",
      "2    Sunsari       60000   Nepal         Democracy      Prime Minister\n",
      "3      Bihar        1234   India         Democracy           President\n",
      "4         UP        1337   India         Democracy           President\n",
      "\n",
      "Look to encode following categories ['Country', 'OtherInfo.GovType', 'OtherInfo.HeadState']\n",
      "[[1. 0. 1.]\n",
      " [1. 0. 1.]\n",
      " [1. 0. 1.]\n",
      " [0. 0. 0.]\n",
      " [0. 0. 0.]]\n",
      "\n",
      "After\n",
      "        name  population Country OtherInfo.GovType OtherInfo.HeadState  \\\n",
      "0  Kathmandu       12345   Nepal         Democracy      Prime Minister   \n",
      "1     Morang       40000   Nepal         Democracy      Prime Minister   \n",
      "2    Sunsari       60000   Nepal         Democracy      Prime Minister   \n",
      "3      Bihar        1234   India         Democracy           President   \n",
      "4         UP        1337   India         Democracy           President   \n",
      "\n",
      "   Country_encoded  OtherInfo.GovType_encoded  OtherInfo.HeadState_encoded  \n",
      "0              1.0                        0.0                          1.0  \n",
      "1              1.0                        0.0                          1.0  \n",
      "2              1.0                        0.0                          1.0  \n",
      "3              0.0                        0.0                          0.0  \n",
      "4              0.0                        0.0                          0.0  \n",
      "\n",
      "View encoded categories\n",
      "[array(['India', 'Nepal'], dtype=object), array(['Democracy'], dtype=object), array(['President', 'Prime Minister'], dtype=object)]\n"
     ]
    }
   ],
   "metadata": {}
  },
  {
   "cell_type": "code",
   "execution_count": null,
   "source": [
    "import pandas as pd\r\n",
    "from sklearn.preprocessing import OrdinalEncoder\r\n",
    "data = {'name':['John', 'Mary', 'Jane', 'Jacob'],\r\n",
    "       'age': [5,2,5,1],\r\n",
    "       'gender': ['m','f','f','m'],\r\n",
    "       'pass/fail': ['fail','pass','fail','pass']}\r\n",
    "df = pd.DataFrame(data)\r\n",
    "df_cat = ['gender', 'pass/fail']\r\n",
    "ordinal_encoder = OrdinalEncoder()\r\n",
    "print(df)\r\n",
    "encoded_array = ordinal_encoder.fit_transform(df[df_cat])\r\n",
    "pd.concat([df, pd.DataFrame(encoded_array, columns = ['Encoded_'+str(df_cat[i]) for i in range(len(df_cat))])], axis=1)\r\n"
   ],
   "outputs": [
    {
     "output_type": "stream",
     "name": "stdout",
     "text": [
      "    name  age gender pass/fail\n",
      "0   John    5      m      fail\n",
      "1   Mary    2      f      pass\n",
      "2   Jane    5      f      fail\n",
      "3  Jacob    1      m      pass\n"
     ]
    },
    {
     "output_type": "execute_result",
     "data": {
      "text/html": [
       "<div>\n",
       "<style scoped>\n",
       "    .dataframe tbody tr th:only-of-type {\n",
       "        vertical-align: middle;\n",
       "    }\n",
       "\n",
       "    .dataframe tbody tr th {\n",
       "        vertical-align: top;\n",
       "    }\n",
       "\n",
       "    .dataframe thead th {\n",
       "        text-align: right;\n",
       "    }\n",
       "</style>\n",
       "<table border=\"1\" class=\"dataframe\">\n",
       "  <thead>\n",
       "    <tr style=\"text-align: right;\">\n",
       "      <th></th>\n",
       "      <th>name</th>\n",
       "      <th>age</th>\n",
       "      <th>gender</th>\n",
       "      <th>pass/fail</th>\n",
       "      <th>Encoded_gender</th>\n",
       "      <th>Encoded_pass/fail</th>\n",
       "    </tr>\n",
       "  </thead>\n",
       "  <tbody>\n",
       "    <tr>\n",
       "      <td>0</td>\n",
       "      <td>John</td>\n",
       "      <td>5</td>\n",
       "      <td>m</td>\n",
       "      <td>fail</td>\n",
       "      <td>1.0</td>\n",
       "      <td>0.0</td>\n",
       "    </tr>\n",
       "    <tr>\n",
       "      <td>1</td>\n",
       "      <td>Mary</td>\n",
       "      <td>2</td>\n",
       "      <td>f</td>\n",
       "      <td>pass</td>\n",
       "      <td>0.0</td>\n",
       "      <td>1.0</td>\n",
       "    </tr>\n",
       "    <tr>\n",
       "      <td>2</td>\n",
       "      <td>Jane</td>\n",
       "      <td>5</td>\n",
       "      <td>f</td>\n",
       "      <td>fail</td>\n",
       "      <td>0.0</td>\n",
       "      <td>0.0</td>\n",
       "    </tr>\n",
       "    <tr>\n",
       "      <td>3</td>\n",
       "      <td>Jacob</td>\n",
       "      <td>1</td>\n",
       "      <td>m</td>\n",
       "      <td>pass</td>\n",
       "      <td>1.0</td>\n",
       "      <td>1.0</td>\n",
       "    </tr>\n",
       "  </tbody>\n",
       "</table>\n",
       "</div>"
      ],
      "text/plain": [
       "    name  age gender pass/fail  Encoded_gender  Encoded_pass/fail\n",
       "0   John    5      m      fail             1.0                0.0\n",
       "1   Mary    2      f      pass             0.0                1.0\n",
       "2   Jane    5      f      fail             0.0                0.0\n",
       "3  Jacob    1      m      pass             1.0                1.0"
      ]
     },
     "metadata": {},
     "execution_count": 82
    }
   ],
   "metadata": {}
  },
  {
   "cell_type": "markdown",
   "source": [
    "<h1>Null Values in DataFrame</h1>\n",
    "<p><a href=\"https://pandas.pydata.org/pandas-docs/stable/reference/api/pandas.DataFrame.isna.html\">pandas.DataFrame.isna</a></p>"
   ],
   "metadata": {}
  },
  {
   "cell_type": "markdown",
   "source": [
    "### Get count of Null Values in each columns in DataFrame"
   ],
   "metadata": {}
  },
  {
   "cell_type": "code",
   "execution_count": null,
   "source": [
    "import pandas as pd\r\n",
    "df = pd.DataFrame({'age': [5, 6, np.NaN],\r\n",
    "                   'born': [pd.NaT, pd.Timestamp('1939-05-27'),\r\n",
    "                            pd.Timestamp('1940-04-25')],\r\n",
    "                   'name': ['Alfred', 'Batman', ''],\r\n",
    "                   'toy': [None, 'Batmobile', 'Joker']})\r\n",
    "print(df)\r\n",
    "df.isna().sum()"
   ],
   "outputs": [
    {
     "output_type": "stream",
     "name": "stdout",
     "text": [
      "   age       born    name        toy\n",
      "0  5.0        NaT  Alfred       None\n",
      "1  6.0 1939-05-27  Batman  Batmobile\n",
      "2  NaN 1940-04-25              Joker\n"
     ]
    },
    {
     "output_type": "execute_result",
     "data": {
      "text/plain": [
       "age     1\n",
       "born    1\n",
       "name    0\n",
       "toy     1\n",
       "dtype: int64"
      ]
     },
     "metadata": {},
     "execution_count": 87
    }
   ],
   "metadata": {}
  },
  {
   "cell_type": "code",
   "execution_count": null,
   "source": [
    "import pandas as pd\r\n",
    "from sklearn.preprocessing import OneHotEncoder\r\n",
    "data = {'name':['John', 'Mary', 'Jane', 'Jacob'],\r\n",
    "       'age': [5,2,5,1],\r\n",
    "       'gender': ['m','f','f','m'],\r\n",
    "       'pass/fail': ['fail','pass','fail','pass']}\r\n",
    "df = pd.DataFrame(data)\r\n",
    "df_cat = ['gender', 'pass/fail']\r\n",
    "onehot_encoder = OneHotEncoder()\r\n",
    "print(df)\r\n",
    "encoded_array = onehot_encoder.fit_transform(df[df_cat])\r\n",
    "# pd.concat([df, pd.DataFrame(encoded_array, columns = ['Encoded_'+str(df_cat[i]) for i in range(len(df_cat))])], axis=1)\r\n"
   ],
   "outputs": [
    {
     "output_type": "stream",
     "name": "stderr",
     "text": [
      "C:\\ProgramData\\Anaconda3\\lib\\importlib\\_bootstrap.py:219: RuntimeWarning: numpy.ufunc size changed, may indicate binary incompatibility. Expected 192 from C header, got 216 from PyObject\n",
      "  return f(*args, **kwds)\n"
     ]
    },
    {
     "output_type": "stream",
     "name": "stdout",
     "text": [
      "    name  age gender pass/fail\n",
      "0   John    5      m      fail\n",
      "1   Mary    2      f      pass\n",
      "2   Jane    5      f      fail\n",
      "3  Jacob    1      m      pass\n"
     ]
    },
    {
     "output_type": "stream",
     "name": "stderr",
     "text": [
      "C:\\ProgramData\\Anaconda3\\lib\\importlib\\_bootstrap.py:219: RuntimeWarning: numpy.ufunc size changed, may indicate binary incompatibility. Expected 192 from C header, got 216 from PyObject\n",
      "  return f(*args, **kwds)\n"
     ]
    }
   ],
   "metadata": {}
  },
  {
   "cell_type": "code",
   "execution_count": null,
   "source": [
    "list(onehot_encoder.categories_[0])"
   ],
   "outputs": [
    {
     "output_type": "execute_result",
     "data": {
      "text/plain": [
       "['f', 'm']"
      ]
     },
     "metadata": {},
     "execution_count": 11
    }
   ],
   "metadata": {}
  },
  {
   "cell_type": "markdown",
   "source": [
    "# Lambda expressions or Anonymous functions"
   ],
   "metadata": {}
  },
  {
   "cell_type": "code",
   "execution_count": 14,
   "source": [
    "# create a function to return square of a given number \r\n",
    "def square(a): # Define function name and paramenters. This case it takes one value idealy num\r\n",
    "    return a*a # intended operation. One expression or operation only \r\n",
    "x = 4 \r\n",
    "print(square(x)) # Run the square function"
   ],
   "outputs": [
    {
     "output_type": "stream",
     "name": "stdout",
     "text": [
      "16\n"
     ]
    }
   ],
   "metadata": {}
  },
  {
   "cell_type": "code",
   "execution_count": 17,
   "source": [
    "# Do the same (calculate square) using Lambda expresstion\r\n",
    "f = lambda x: x*x # create a function using lambda expression. THis only works when you intend to use one expression/calculation\r\n",
    "print(f(4))\r\n",
    "\r\n"
   ],
   "outputs": [
    {
     "output_type": "stream",
     "name": "stdout",
     "text": [
      "16\n",
      "44\n"
     ]
    }
   ],
   "metadata": {}
  },
  {
   "cell_type": "code",
   "execution_count": 19,
   "source": [
    "# Lambda functions can be used inside another function. \r\n",
    "# create a function that give you quadruples of a given number\r\n",
    "def test(x): # Create function named test that takes in one input\r\n",
    "    return lambda a : a * x # this returns a lambda function with x's value set to whatever is passed. So if 1 is passed the output is a lambda expression (lambda x: x * 1)\r\n",
    "    # You can use this function to create other function that can give you double, triple, quadruple and so on. \r\n",
    "\r\n",
    "testdouble = test(2) # this sets the value of x to be 2. So when we call this function pass a number \"x\" we now get the output x * 2.\r\n",
    "testtriple = test(3) # this sets the value of x to be 3. So when we call this function pass a number \"x\" we now get the output x * 3.\r\n",
    "getquadruple = test(4) # this sets the value of x to be 4. So when we call this function pass a number \"x\" we now get the output x * 4.\r\n",
    "\r\n",
    "print(testdouble(11))\r\n",
    "print(testtriple(11))\r\n",
    "print(getquadruple(11))"
   ],
   "outputs": [
    {
     "output_type": "stream",
     "name": "stdout",
     "text": [
      "22\n",
      "33\n",
      "44\n"
     ]
    }
   ],
   "metadata": {}
  },
  {
   "cell_type": "code",
   "execution_count": 33,
   "source": [
    "# Use a lambda expression to seperate names using a delimitor (Title, Firstname, LastName)\r\n",
    "import pandas as pd\r\n",
    "import numpy as np\r\n",
    "\r\n",
    "df1 = pd.DataFrame(np.array([\r\n",
    "    [1,'Mr. John Doe',5], \r\n",
    "    [2,'Dr. Jacob Jones',2],\r\n",
    "    [3, 'Mrs. Jane Roe', 25],\r\n",
    "    [4,'Master. Michael River',12]]),\r\n",
    "                  columns=['id','name','age'])\r\n",
    "print(df1)\r\n",
    "print(\"Inspect the name column. Name consists of title, first and last name\")\r\n",
    "\r\n",
    "# Create a new column called title which consists of the title only. Use lambda expression to complet this task. do the same and seperate first and last name as well\r\n",
    "df1['title'] = df1[\"name\"].apply(lambda x : x.split()[0])\r\n",
    "df1['firstname'] = df1[\"name\"].apply(lambda x : x.split()[1])\r\n",
    "df1['lastname'] = df1[\"name\"].apply(lambda x : x.split()[2])\r\n",
    "df1\r\n",
    "\r\n",
    "\r\n"
   ],
   "outputs": [
    {
     "output_type": "stream",
     "name": "stdout",
     "text": [
      "  id                   name age\n",
      "0  1           Mr. John Doe   5\n",
      "1  2        Dr. Jacob Jones   2\n",
      "2  3          Mrs. Jane Roe  25\n",
      "3  4  Master. Michael River  12\n",
      "Inspect the name column. Name consists of title, first and last name\n"
     ]
    },
    {
     "output_type": "error",
     "ename": "AttributeError",
     "evalue": "'Series' object has no attribute 'split'",
     "traceback": [
      "\u001b[1;31m---------------------------------------------------------------------------\u001b[0m",
      "\u001b[1;31mAttributeError\u001b[0m                            Traceback (most recent call last)",
      "\u001b[1;32m<ipython-input-33-97bfbdbe8721>\u001b[0m in \u001b[0;36m<module>\u001b[1;34m\u001b[0m\n\u001b[0;32m     18\u001b[0m \u001b[1;31m# df1\u001b[0m\u001b[1;33m\u001b[0m\u001b[1;33m\u001b[0m\u001b[1;33m\u001b[0m\u001b[0m\n\u001b[0;32m     19\u001b[0m \u001b[1;33m\u001b[0m\u001b[0m\n\u001b[1;32m---> 20\u001b[1;33m \u001b[0mdf1\u001b[0m\u001b[1;33m[\u001b[0m\u001b[1;34m'name'\u001b[0m\u001b[1;33m]\u001b[0m\u001b[1;33m.\u001b[0m\u001b[0mapply\u001b[0m\u001b[1;33m(\u001b[0m\u001b[1;32mlambda\u001b[0m \u001b[0mx\u001b[0m\u001b[1;33m:\u001b[0m\u001b[0mx\u001b[0m\u001b[1;33m.\u001b[0m\u001b[0msplit\u001b[0m\u001b[1;33m(\u001b[0m\u001b[1;33m)\u001b[0m\u001b[1;33m)\u001b[0m\u001b[1;33m.\u001b[0m\u001b[0msplit\u001b[0m\u001b[1;33m(\u001b[0m\u001b[1;34m','\u001b[0m\u001b[1;33m)\u001b[0m\u001b[1;33m\u001b[0m\u001b[1;33m\u001b[0m\u001b[0m\n\u001b[0m\u001b[0;32m     21\u001b[0m \u001b[1;33m\u001b[0m\u001b[0m\n\u001b[0;32m     22\u001b[0m \u001b[1;33m\u001b[0m\u001b[0m\n",
      "\u001b[1;32mC:\\ProgramData\\Anaconda3\\lib\\site-packages\\pandas\\core\\generic.py\u001b[0m in \u001b[0;36m__getattr__\u001b[1;34m(self, name)\u001b[0m\n\u001b[0;32m   5065\u001b[0m             \u001b[1;32mif\u001b[0m \u001b[0mself\u001b[0m\u001b[1;33m.\u001b[0m\u001b[0m_info_axis\u001b[0m\u001b[1;33m.\u001b[0m\u001b[0m_can_hold_identifiers_and_holds_name\u001b[0m\u001b[1;33m(\u001b[0m\u001b[0mname\u001b[0m\u001b[1;33m)\u001b[0m\u001b[1;33m:\u001b[0m\u001b[1;33m\u001b[0m\u001b[1;33m\u001b[0m\u001b[0m\n\u001b[0;32m   5066\u001b[0m                 \u001b[1;32mreturn\u001b[0m \u001b[0mself\u001b[0m\u001b[1;33m[\u001b[0m\u001b[0mname\u001b[0m\u001b[1;33m]\u001b[0m\u001b[1;33m\u001b[0m\u001b[1;33m\u001b[0m\u001b[0m\n\u001b[1;32m-> 5067\u001b[1;33m             \u001b[1;32mreturn\u001b[0m \u001b[0mobject\u001b[0m\u001b[1;33m.\u001b[0m\u001b[0m__getattribute__\u001b[0m\u001b[1;33m(\u001b[0m\u001b[0mself\u001b[0m\u001b[1;33m,\u001b[0m \u001b[0mname\u001b[0m\u001b[1;33m)\u001b[0m\u001b[1;33m\u001b[0m\u001b[1;33m\u001b[0m\u001b[0m\n\u001b[0m\u001b[0;32m   5068\u001b[0m \u001b[1;33m\u001b[0m\u001b[0m\n\u001b[0;32m   5069\u001b[0m     \u001b[1;32mdef\u001b[0m \u001b[0m__setattr__\u001b[0m\u001b[1;33m(\u001b[0m\u001b[0mself\u001b[0m\u001b[1;33m,\u001b[0m \u001b[0mname\u001b[0m\u001b[1;33m,\u001b[0m \u001b[0mvalue\u001b[0m\u001b[1;33m)\u001b[0m\u001b[1;33m:\u001b[0m\u001b[1;33m\u001b[0m\u001b[1;33m\u001b[0m\u001b[0m\n",
      "\u001b[1;31mAttributeError\u001b[0m: 'Series' object has no attribute 'split'"
     ]
    }
   ],
   "metadata": {}
  },
  {
   "cell_type": "code",
   "execution_count": null,
   "source": [
    "a = \"Mr Binay Raut\"\r\n",
    "f = lambda x : x.split(' ')\r\n",
    "f(a)"
   ],
   "outputs": [
    {
     "output_type": "execute_result",
     "data": {
      "text/plain": [
       "['Mr', 'Binay', 'Raut']"
      ]
     },
     "metadata": {},
     "execution_count": 32
    }
   ],
   "metadata": {}
  },
  {
   "cell_type": "code",
   "execution_count": null,
   "source": [],
   "outputs": [],
   "metadata": {}
  }
 ],
 "metadata": {
  "kernelspec": {
   "name": "python3",
   "display_name": "Python 3.7.3 64-bit ('base': conda)"
  },
  "language_info": {
   "codemirror_mode": {
    "name": "ipython",
    "version": 3
   },
   "file_extension": ".py",
   "mimetype": "text/x-python",
   "name": "python",
   "nbconvert_exporter": "python",
   "pygments_lexer": "ipython3",
   "version": "3.7.3"
  },
  "interpreter": {
   "hash": "b3ba2566441a7c06988d0923437866b63cedc61552a5af99d1f4fb67d367b25f"
  }
 },
 "nbformat": 4,
 "nbformat_minor": 4
}