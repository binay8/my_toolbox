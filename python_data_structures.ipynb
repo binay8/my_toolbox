{
 "cells": [
  {
   "cell_type": "code",
   "execution_count": 1,
   "metadata": {},
   "outputs": [
    {
     "name": "stdout",
     "output_type": "stream",
     "text": [
      "<class 'list'>\n",
      "['Binay Raut', 'Abiral Raut', 'John Doe', 'Jane Roe', 'Abiral Raut']\n",
      "Binay Raut\n",
      "5\n",
      "['Binay Raut', 'Abiral Raut', 'John Doe', 'Jane Roe', 'Abiral Raut', 'Natasha Khadka']\n",
      "['Abiral Raut', 'John Doe', 'Jane Roe', 'Abiral Raut', 'Natasha Khadka']\n",
      "['Abiral Raut', 'Jane Roe', 'Abiral Raut', 'Natasha Khadka']\n",
      "['Natasha Khadka', 'Abiral Raut', 'Jane Roe', 'Abiral Raut']\n",
      "2\n",
      "['Abiral Raut', 'Abiral Raut', 'Jane Roe', 'Natasha Khadka']\n",
      "['Natasha Khadka', 'Jane Roe', 'Abiral Raut', 'Abiral Raut']\n",
      "['Abiral Raut', 'Abiral Raut', 'Jane Roe', 'Natasha Khadka']\n"
     ]
    }
   ],
   "source": [
    "# Lists\n",
    "names_list = ['Binay Raut', 'Abiral Raut', 'John Doe', 'Jane Roe', 'Abiral Raut']\n",
    "\n",
    "# Inspect the type of the object. It should be list\n",
    "print(type(names_list))\n",
    "\n",
    "# Print all items in the list\n",
    "print(names_list)\n",
    "\n",
    "# Print first item on the list\n",
    "print(names_list[0])\n",
    "\n",
    "# Print the length of the list\n",
    "print(len(names_list))\n",
    "\n",
    "# Add an item 'Natasha Khadka' to the list and print the updated list\n",
    "names_list.append('Natasha Khadka')\n",
    "print(names_list)\n",
    "\n",
    "# Remove an item 'Binay Raut' to the list and print the updated list\n",
    "names_list.remove('Binay Raut')\n",
    "print(names_list)\n",
    "\n",
    "## Remove the second item from the list to the list and print the updated list\n",
    "names_list.pop(1)\n",
    "print(names_list)\n",
    "\n",
    "# Reverse the elements of the list\n",
    "names_list.reverse()\n",
    "print(names_list)\n",
    "\n",
    "# Count number of times 'Abiral Raut' appears in the list\n",
    "print(names_list.count('Abiral Raut'))\n",
    "\n",
    "# Sort the list alphabetically from a-z\n",
    "print(sorted(names_list))\n",
    "\n",
    "# Reverse Sort the list alphabetically from z-a\n",
    "print(sorted(names_list, reverse=True))\n",
    "\n",
    "# Another way to sort the list\n",
    "names_list.sort()\n",
    "print(names_list)"
   ]
  },
  {
   "cell_type": "code",
   "execution_count": 2,
   "metadata": {},
   "outputs": [
    {
     "name": "stdout",
     "output_type": "stream",
     "text": [
      "['Toyota', 'Honda', 'Ford', 'BMW', 'Audi', 'Honda', 'Toyota', 'Toyota']\n"
     ]
    }
   ],
   "source": [
    "car_list = ['Toyota','Honda','Ford','BMW','Audi','Honda','Toyota']\n",
    "\n",
    "car_list.append('Toyota')\n",
    "\n",
    "print(car_list)"
   ]
  },
  {
   "cell_type": "code",
   "execution_count": null,
   "metadata": {},
   "outputs": [
    {
     "name": "stdout",
     "output_type": "stream",
     "text": [
      "['Honda', 'Ford', 'BMW', 'Audi', 'Honda', 'Toyota', 'Toyota']\n"
     ]
    }
   ],
   "source": [
    "car_list.remove('Toyota')\n",
    "\n",
    "print(car_list)"
   ]
  },
  {
   "cell_type": "code",
   "execution_count": null,
   "metadata": {},
   "outputs": [
    {
     "name": "stdout",
     "output_type": "stream",
     "text": [
      "['Toyota', 'Toyota', 'Honda', 'Audi', 'BMW', 'Ford', 'Honda']\n"
     ]
    }
   ],
   "source": [
    "car_list.reverse()\n",
    "print(car_list)"
   ]
  },
  {
   "cell_type": "code",
   "execution_count": null,
   "metadata": {},
   "outputs": [
    {
     "data": {
      "text/plain": [
       "'Honda'"
      ]
     },
     "execution_count": 5,
     "metadata": {},
     "output_type": "execute_result"
    }
   ],
   "source": [
    "car_list.pop()"
   ]
  },
  {
   "cell_type": "code",
   "execution_count": null,
   "metadata": {},
   "outputs": [
    {
     "data": {
      "text/plain": [
       "['Toyota', 'Toyota', 'Honda', 'Audi', 'BMW', 'Ford']"
      ]
     },
     "execution_count": 6,
     "metadata": {},
     "output_type": "execute_result"
    }
   ],
   "source": [
    "car_list"
   ]
  },
  {
   "cell_type": "code",
   "execution_count": null,
   "metadata": {},
   "outputs": [
    {
     "data": {
      "text/plain": [
       "'Toyota'"
      ]
     },
     "execution_count": 7,
     "metadata": {},
     "output_type": "execute_result"
    }
   ],
   "source": [
    "car_list.pop(0)"
   ]
  },
  {
   "cell_type": "code",
   "execution_count": null,
   "metadata": {},
   "outputs": [
    {
     "data": {
      "text/plain": [
       "'BMW'"
      ]
     },
     "execution_count": 9,
     "metadata": {},
     "output_type": "execute_result"
    }
   ],
   "source": [
    "car_list.pop(3)"
   ]
  },
  {
   "cell_type": "code",
   "execution_count": null,
   "metadata": {},
   "outputs": [
    {
     "data": {
      "text/plain": [
       "['Toyota', 'Honda', 'Audi', 'Ford']"
      ]
     },
     "execution_count": 10,
     "metadata": {},
     "output_type": "execute_result"
    }
   ],
   "source": [
    "car_list"
   ]
  },
  {
   "cell_type": "code",
   "execution_count": null,
   "metadata": {},
   "outputs": [
    {
     "name": "stdout",
     "output_type": "stream",
     "text": [
      "Help on method_descriptor:\n",
      "\n",
      "insert(self, index, object, /)\n",
      "    Insert object before index.\n",
      "\n"
     ]
    }
   ],
   "source": [
    "help(list.insert)"
   ]
  },
  {
   "cell_type": "code",
   "execution_count": null,
   "metadata": {},
   "outputs": [],
   "source": [
    "car_list.insert(0,'Honda')"
   ]
  },
  {
   "cell_type": "code",
   "execution_count": null,
   "metadata": {},
   "outputs": [
    {
     "data": {
      "text/plain": [
       "['Honda', 'Toyota', 'Honda', 'Audi', 'Ford']"
      ]
     },
     "execution_count": 16,
     "metadata": {},
     "output_type": "execute_result"
    }
   ],
   "source": [
    "car_list"
   ]
  },
  {
   "cell_type": "code",
   "execution_count": null,
   "metadata": {},
   "outputs": [
    {
     "name": "stdout",
     "output_type": "stream",
     "text": [
      "Help on method_descriptor:\n",
      "\n",
      "extend(self, iterable, /)\n",
      "    Extend list by appending elements from the iterable.\n",
      "\n"
     ]
    }
   ],
   "source": [
    "help(list.extend)"
   ]
  },
  {
   "cell_type": "code",
   "execution_count": null,
   "metadata": {},
   "outputs": [
    {
     "data": {
      "text/plain": [
       "['Honda',\n",
       " 'Toyota',\n",
       " 'Honda',\n",
       " 'Audi',\n",
       " 'Ford',\n",
       " 'Ford',\n",
       " 'Dodge',\n",
       " 'Chevy',\n",
       " 'Lincoln']"
      ]
     },
     "execution_count": 18,
     "metadata": {},
     "output_type": "execute_result"
    }
   ],
   "source": [
    "american_car_list = ['Ford','Dodge','Chevy','Lincoln']\n",
    "car_list.extend(american_car_list)\n",
    "car_list"
   ]
  },
  {
   "cell_type": "code",
   "execution_count": null,
   "metadata": {},
   "outputs": [
    {
     "data": {
      "text/plain": [
       "['Honda',\n",
       " 'Toyota',\n",
       " 'Honda',\n",
       " 'Audi',\n",
       " 'Ford',\n",
       " 'Ford',\n",
       " 'Dodge',\n",
       " 'Chevy',\n",
       " 'Lincoln']"
      ]
     },
     "execution_count": 20,
     "metadata": {},
     "output_type": "execute_result"
    }
   ],
   "source": [
    "car_list2 = car_list.copy()\n",
    "car_list2"
   ]
  },
  {
   "cell_type": "code",
   "execution_count": null,
   "metadata": {},
   "outputs": [
    {
     "data": {
      "text/plain": [
       "[]"
      ]
     },
     "execution_count": 21,
     "metadata": {},
     "output_type": "execute_result"
    }
   ],
   "source": [
    "car_list2.clear()\n",
    "car_list2"
   ]
  },
  {
   "cell_type": "code",
   "execution_count": null,
   "metadata": {},
   "outputs": [],
   "source": [
    "### Using List as Queue"
   ]
  },
  {
   "cell_type": "code",
   "execution_count": null,
   "metadata": {},
   "outputs": [
    {
     "data": {
      "text/plain": [
       "deque(['Natasha Khadka', 'Abiral Raut', 'Jane Roe', 'Abiral Raut'])"
      ]
     },
     "execution_count": 25,
     "metadata": {},
     "output_type": "execute_result"
    }
   ],
   "source": [
    "from collections import deque\n",
    "\n",
    "names_list_queue = deque(names_list.copy())\n",
    "names_list_queue"
   ]
  },
  {
   "cell_type": "code",
   "execution_count": null,
   "metadata": {},
   "outputs": [
    {
     "data": {
      "text/plain": [
       "deque(['Natasha Khadka',\n",
       "       'Abiral Raut',\n",
       "       'Jane Roe',\n",
       "       'Abiral Raut',\n",
       "       'Biplav Raut'])"
      ]
     },
     "execution_count": 27,
     "metadata": {},
     "output_type": "execute_result"
    }
   ],
   "source": [
    "names_list_queue.append('Biplav Raut')\n",
    "names_list_queue"
   ]
  },
  {
   "cell_type": "code",
   "execution_count": null,
   "metadata": {},
   "outputs": [
    {
     "name": "stdout",
     "output_type": "stream",
     "text": [
      "deque(['Nimesh Raut', 'Natasha Khadka', 'Abiral Raut', 'Jane Roe', 'Abiral Raut', 'Biplav Raut'])\n"
     ]
    }
   ],
   "source": [
    "names_list_queue.appendleft('Nimesh Raut')\n",
    "print(names_list_queue)"
   ]
  },
  {
   "cell_type": "code",
   "execution_count": null,
   "metadata": {},
   "outputs": [
    {
     "data": {
      "text/plain": [
       "'Biplav Raut'"
      ]
     },
     "execution_count": 29,
     "metadata": {},
     "output_type": "execute_result"
    }
   ],
   "source": [
    "names_list_queue.pop()"
   ]
  },
  {
   "cell_type": "code",
   "execution_count": null,
   "metadata": {},
   "outputs": [
    {
     "data": {
      "text/plain": [
       "'Nimesh Raut'"
      ]
     },
     "execution_count": 30,
     "metadata": {},
     "output_type": "execute_result"
    }
   ],
   "source": [
    "names_list_queue.popleft()"
   ]
  },
  {
   "cell_type": "code",
   "execution_count": null,
   "metadata": {},
   "outputs": [
    {
     "name": "stdout",
     "output_type": "stream",
     "text": [
      "deque(['Natasha Khadka', 'Abiral Raut', 'Jane Roe', 'Abiral Raut'])\n",
      "deque(['Abiral Raut', 'Natasha Khadka', 'Abiral Raut', 'Jane Roe'])\n"
     ]
    }
   ],
   "source": [
    "\n",
    "print(names_list_queue)\n",
    "names_list_queue.rotate()\n",
    "print(names_list_queue)\n",
    "names_list_queue.rotate()\n",
    "print(names_list_queue)"
   ]
  },
  {
   "cell_type": "code",
   "execution_count": null,
   "metadata": {},
   "outputs": [
    {
     "data": {
      "text/html": [
       "<div>\n",
       "<style scoped>\n",
       "    .dataframe tbody tr th:only-of-type {\n",
       "        vertical-align: middle;\n",
       "    }\n",
       "\n",
       "    .dataframe tbody tr th {\n",
       "        vertical-align: top;\n",
       "    }\n",
       "\n",
       "    .dataframe thead th {\n",
       "        text-align: right;\n",
       "    }\n",
       "</style>\n",
       "<table border=\"1\" class=\"dataframe\">\n",
       "  <thead>\n",
       "    <tr style=\"text-align: right;\">\n",
       "      <th></th>\n",
       "      <th>Make</th>\n",
       "      <th>Model</th>\n",
       "      <th>Color</th>\n",
       "      <th>Year</th>\n",
       "    </tr>\n",
       "  </thead>\n",
       "  <tbody>\n",
       "    <tr>\n",
       "      <th>0</th>\n",
       "      <td>Honda</td>\n",
       "      <td>Pilot</td>\n",
       "      <td>2019</td>\n",
       "      <td>NaN</td>\n",
       "    </tr>\n",
       "    <tr>\n",
       "      <th>1</th>\n",
       "      <td>Toyota</td>\n",
       "      <td>Corolla</td>\n",
       "      <td>Green</td>\n",
       "      <td>2021.0</td>\n",
       "    </tr>\n",
       "  </tbody>\n",
       "</table>\n",
       "</div>"
      ],
      "text/plain": [
       "     Make    Model  Color    Year\n",
       "0   Honda    Pilot   2019     NaN\n",
       "1  Toyota  Corolla  Green  2021.0"
      ]
     },
     "execution_count": 4,
     "metadata": {},
     "output_type": "execute_result"
    }
   ],
   "source": [
    "import pandas as pd\n",
    "car1 = ['Honda','Pilot','White',2019]\n",
    "car2 = ['Toyota','Corolla','Green',2021]\n",
    "\n",
    "df_cars = pd.DataFrame(data=[car1,car2],columns=[\"Make\",\"Model\",\"Color\",\"Year\"])\n",
    "\n",
    "df_cars"
   ]
  },
  {
   "cell_type": "code",
   "execution_count": null,
   "metadata": {},
   "outputs": [
    {
     "data": {
      "text/plain": [
       "269"
      ]
     },
     "execution_count": 3,
     "metadata": {},
     "output_type": "execute_result"
    }
   ],
   "source": [
    "numbers = [5,200,29,35]\n",
    "\n",
    "\n",
    "\n",
    "def get_sum(num_list):\n",
    "    sum = 0\n",
    "    for number in num_list:\n",
    "        sum += number\n",
    "    return sum\n",
    "\n",
    "get_sum(numbers)\n"
   ]
  },
  {
   "cell_type": "code",
   "execution_count": null,
   "metadata": {},
   "outputs": [
    {
     "name": "stdout",
     "output_type": "stream",
     "text": [
      "start with [5, 200, 29, 35]\n",
      "Iteration # 1 Outer Iteration 1 [5, 200, 29, 35]\n",
      "Iteration # 2 Outer Iteration 1 [5, 29, 200, 35]\n",
      "Iteration # 3 Outer Iteration 1 [5, 29, 35, 200]\n",
      "The item on the position # 4 should be in its desired position.\n",
      "Iteration # 4 Outer Iteration 2 [5, 29, 35, 200]\n",
      "Iteration # 5 Outer Iteration 2 [5, 29, 35, 200]\n",
      "The item on the position # 3 should be in its desired position.\n",
      "Iteration # 6 Outer Iteration 3 [5, 29, 35, 200]\n",
      "The item on the position # 2 should be in its desired position.\n",
      "The item on the position # 1 should be in its deisred position. The list should be sorted now!\n"
     ]
    }
   ],
   "source": [
    "\n",
    "numbers = [5,200,29,35]\n",
    "\n",
    "\n",
    "def bubblesort_numbers(num_list):\n",
    "    num_len = len(num_list)\n",
    "    counter = 1 # This counter tracks sort progress. Or how many items in the list has been sorted and in thier desired position.\n",
    "    run_counter = 1 # All up run counter. \n",
    "    print(r'start with',num_list) # Print the start list to be sorted.\n",
    "    for i in range(num_len-1): # Outer Loop start\n",
    "        for j in range(num_len-counter): # Inner Loop start. Range of this is length minus the counter to track sort progress. \n",
    "        # We can also use range(num_len-i-1)\n",
    "            if num_list[j]>num_list[j+1]: # Evaluate values in two position at a time. Switch positions as needed.\n",
    "                temp = num_list[j] \n",
    "                num_list[j] = num_list[j+1]\n",
    "                num_list[j+1] = temp    \n",
    "            else:\n",
    "                pass\n",
    "            print(r'Iteration #' , run_counter,'Outer Iteration',counter, num_list, )\n",
    "            run_counter+=1\n",
    "        print(r'The item on the position #', num_len-counter+1,'should be in its desired position.')\n",
    "        counter+=1\n",
    "    print(r'The item on the position # 1 should be in its deisred position. The list should be sorted now!')\n",
    "        \n",
    "bubblesort_numbers(numbers)\n"
   ]
  },
  {
   "cell_type": "code",
   "execution_count": null,
   "metadata": {},
   "outputs": [
    {
     "name": "stdout",
     "output_type": "stream",
     "text": [
      "start with [2500, 200, 145, 23, 15, 12, 9]\n",
      "Iteration # 1 Outer Iteration 1 [200, 2500, 145, 23, 15, 12, 9]\n",
      "Iteration # 2 Outer Iteration 1 [200, 145, 2500, 23, 15, 12, 9]\n",
      "Iteration # 3 Outer Iteration 1 [200, 145, 23, 2500, 15, 12, 9]\n",
      "Iteration # 4 Outer Iteration 1 [200, 145, 23, 15, 2500, 12, 9]\n",
      "Iteration # 5 Outer Iteration 1 [200, 145, 23, 15, 12, 2500, 9]\n",
      "Iteration # 6 Outer Iteration 1 [200, 145, 23, 15, 12, 9, 2500]\n",
      "The item on the position # 7 should be in its desired position.\n",
      "Iteration # 7 Outer Iteration 2 [145, 200, 23, 15, 12, 9, 2500]\n",
      "Iteration # 8 Outer Iteration 2 [145, 23, 200, 15, 12, 9, 2500]\n",
      "Iteration # 9 Outer Iteration 2 [145, 23, 15, 200, 12, 9, 2500]\n",
      "Iteration # 10 Outer Iteration 2 [145, 23, 15, 12, 200, 9, 2500]\n",
      "Iteration # 11 Outer Iteration 2 [145, 23, 15, 12, 9, 200, 2500]\n",
      "The item on the position # 6 should be in its desired position.\n",
      "Iteration # 12 Outer Iteration 3 [23, 145, 15, 12, 9, 200, 2500]\n",
      "Iteration # 13 Outer Iteration 3 [23, 15, 145, 12, 9, 200, 2500]\n",
      "Iteration # 14 Outer Iteration 3 [23, 15, 12, 145, 9, 200, 2500]\n",
      "Iteration # 15 Outer Iteration 3 [23, 15, 12, 9, 145, 200, 2500]\n",
      "The item on the position # 5 should be in its desired position.\n",
      "Iteration # 16 Outer Iteration 4 [15, 23, 12, 9, 145, 200, 2500]\n",
      "Iteration # 17 Outer Iteration 4 [15, 12, 23, 9, 145, 200, 2500]\n",
      "Iteration # 18 Outer Iteration 4 [15, 12, 9, 23, 145, 200, 2500]\n",
      "The item on the position # 4 should be in its desired position.\n",
      "Iteration # 19 Outer Iteration 5 [12, 15, 9, 23, 145, 200, 2500]\n",
      "Iteration # 20 Outer Iteration 5 [12, 9, 15, 23, 145, 200, 2500]\n",
      "The item on the position # 3 should be in its desired position.\n",
      "Iteration # 21 Outer Iteration 6 [9, 12, 15, 23, 145, 200, 2500]\n",
      "The item on the position # 2 should be in its desired position.\n",
      "The item on the position # 1 should be in its deisred position. The list should be sorted now!\n"
     ]
    }
   ],
   "source": [
    "number_list = [2500,200,145,23,15,12,9]\n",
    "bubblesort_numbers(number_list)\n"
   ]
  },
  {
   "cell_type": "code",
   "execution_count": null,
   "metadata": {},
   "outputs": [
    {
     "name": "stdout",
     "output_type": "stream",
     "text": [
      "4\n"
     ]
    }
   ],
   "source": [
    "numbers = [5,200,29,35]\n",
    "\n",
    "print(len(numbers))"
   ]
  },
  {
   "cell_type": "code",
   "execution_count": null,
   "metadata": {},
   "outputs": [
    {
     "name": "stdout",
     "output_type": "stream",
     "text": [
      "[3, 6, 9, 21, 33]\n"
     ]
    }
   ],
   "source": [
    "def bubbleSort( theSeq ):\n",
    "    n = len( theSeq )\n",
    "\n",
    "    for i in range( n - 1 ) :\n",
    "        flag = 0\n",
    "\n",
    "        for j in range(n - 1) :\n",
    "            \n",
    "            if theSeq[j] > theSeq[j + 1] : \n",
    "                tmp = theSeq[j]\n",
    "                theSeq[j] = theSeq[j + 1]\n",
    "                theSeq[j + 1] = tmp\n",
    "                flag = 1\n",
    "\n",
    "        if flag == 0:\n",
    "            break\n",
    "\n",
    "    return theSeq\n",
    "\n",
    "el = [21,6,9,33,3] \n",
    "\n",
    "result = bubbleSort(el)\n",
    "\n",
    "print (result)"
   ]
  },
  {
   "cell_type": "code",
   "execution_count": 3,
   "metadata": {},
   "outputs": [
    {
     "data": {
      "text/plain": [
       "[0, 1, 1, 2, 3, 5]"
      ]
     },
     "execution_count": 3,
     "metadata": {},
     "output_type": "execute_result"
    }
   ],
   "source": [
    "def fibonacci_less_than(num):\n",
    "    output_list=[]\n",
    "    if num>=1:\n",
    "        output_list.append(0)\n",
    "        output_list.append(1)\n",
    "        while output_list[-1] < num:\n",
    "            next_num = output_list[-1]+output_list[-2]\n",
    "            if next_num <= num:\n",
    "                output_list.append(next_num) \n",
    "            else:\n",
    "                break\n",
    "\n",
    "    return output_list\n",
    "\n",
    "fibonacci_less_than(7)"
   ]
  },
  {
   "cell_type": "code",
   "execution_count": 5,
   "metadata": {},
   "outputs": [
    {
     "data": {
      "text/plain": [
       "[0, 1, 1, 2, 3, 5, 8, 13, 21, 34, 55, 89, 144, 233, 377, 610, 987]"
      ]
     },
     "execution_count": 5,
     "metadata": {},
     "output_type": "execute_result"
    }
   ],
   "source": [
    "fibonacci_less_than(1000)"
   ]
  },
  {
   "cell_type": "code",
   "execution_count": 14,
   "metadata": {},
   "outputs": [
    {
     "data": {
      "text/plain": [
       "0"
      ]
     },
     "execution_count": 14,
     "metadata": {},
     "output_type": "execute_result"
    }
   ],
   "source": [
    "def fibonacci(num):\n",
    "    output_list=[0,1]\n",
    "    list_len = len(output_list)\n",
    "    if num == 1:\n",
    "        return 0\n",
    "    while list_len<num:\n",
    "        next_num = output_list[-1]+output_list[-2]\n",
    "        output_list.append(next_num) \n",
    "        list_len = len(output_list)\n",
    "\n",
    "\n",
    "    return output_list\n",
    "\n",
    "fibonacci(1)"
   ]
  },
  {
   "cell_type": "code",
   "execution_count": 19,
   "metadata": {},
   "outputs": [
    {
     "data": {
      "text/plain": [
       "[0, 1, 1, 2, 3, 5, 8, 13, 21, 34, 55, 89, 144, 233, 377]"
      ]
     },
     "execution_count": 19,
     "metadata": {},
     "output_type": "execute_result"
    }
   ],
   "source": [
    "fibonacci(15)"
   ]
  },
  {
   "cell_type": "code",
   "execution_count": 17,
   "metadata": {},
   "outputs": [],
   "source": [
    "def merge_sort(num_list):\n",
    "\n",
    "    # Stopping point\n",
    "    if len(num_list)<2: # This is the lowest granual list size, wehre the list could be of length 1 or 0 (empty list).\n",
    "        return num_list # If the list size is 1 or 0, no sorting is necessary and you can simply return the list.\n",
    "    \n",
    "    left_list = num_list[:int(len(num_list)/2)] # Seperate the list in two halves and store them in left and right list.\n",
    "    right_list = num_list[int(len(num_list)/2):] # If the list has odd number of items, the right list will have the extra item.\n",
    "\n",
    "    left_list = merge_sort(left_list) # Recursively run the merge_sort function to the left half of the list untill you get to the \"Stopping Point\"\n",
    "    right_list = merge_sort(right_list) # Same thing happens to the right hand side of the list.\n",
    "\n",
    "    return merge(left_list, right_list)  # Run the merge function which sorts and merges two lists of any given size.\n",
    "\n",
    "\n",
    "def merge(left_list, right_list):\n",
    "    l_len = len(left_list) # Get the length of the left side of the list\n",
    "    r_len = len(right_list) # Get the length of the right side of the list\n",
    "    sorted_list =[] # Create an empty list to store the output\n",
    "    i = 0 # To be used in following where loop. To evaulate left_list\n",
    "    j= 0 # To be used in following where loop. To evaluate right_list\n",
    "    # i=j=0 # Alternative way to initialize mulitple vairables\n",
    "    \n",
    "    # Start while loop \n",
    "    while i < l_len and j < r_len: # Run this loop unitll at least one of the list has been evaluated completely\n",
    "        if left_list[i] <= right_list[j]: # Compare the items and check if the item in the left list is smaller than the item in right list\n",
    "            sorted_list.append(left_list[i]) # Append the item in the left list to the output \n",
    "            i+=1 # Since the item in the left list is evaluated, and adjucicated to be lower, increase \"i\" by 1 to move to next position.\n",
    "        elif right_list[j] <= left_list[i]: # Compare the items and check if the item in the right list is smaller than the item in left list\n",
    "            sorted_list.append(right_list[j]) # Append the item in the right list to the output \n",
    "            j+=1 # Since the item in the right list is evaluated, and adjucicated to be lower, increase \"j\" by 1 to move to next position.\n",
    "    # End of while loop\n",
    "    # At this point, we should have all items of one of the lists, either right_list or left_list stored in \"sorted_list\".  \n",
    "    \n",
    "    # Since we still have to add the remaining items in the other list, and it could be any one of the two list, we start evaluating both lists\n",
    "    if i<j: # Check whether we stored all items from left or right list. If this is true, all items from right list has been stored in sorted list\n",
    "        while i<l_len: # While loop to iterate through the rest of the items in left list.\n",
    "            sorted_list.append(left_list[i]) # Add all remaining items in sorted list\n",
    "            i+=1\n",
    "    else: # Do the same as above for the right list\n",
    "        while j<r_len:\n",
    "            sorted_list.append(right_list[j])\n",
    "            j+=1\n",
    "    \n",
    "    return(sorted_list) "
   ]
  },
  {
   "cell_type": "code",
   "execution_count": 18,
   "metadata": {},
   "outputs": [
    {
     "data": {
      "text/plain": [
       "[1, 2, 3, 4, 5, 6, 7, 8, 9]"
      ]
     },
     "execution_count": 18,
     "metadata": {},
     "output_type": "execute_result"
    }
   ],
   "source": [
    "my_list = [1,2,3,4,5,6,7,8,9]\n",
    "# merge(my_list[:int(len(my_list)/2)],my_list[int(len(my_list)/2):])\n",
    "# my_list[:int(len(my_list)/2)]\n",
    "\n",
    "# merge_sort(my_list)"
   ]
  },
  {
   "cell_type": "code",
   "execution_count": 19,
   "metadata": {},
   "outputs": [
    {
     "data": {
      "text/plain": [
       "[1, 2, 3, 4, 5, 6, 7, 8, 9]"
      ]
     },
     "execution_count": 19,
     "metadata": {},
     "output_type": "execute_result"
    }
   ],
   "source": [
    "my_list = [6,7,8,9,1,2,3,4,5]\n",
    "# merge(my_list[:int(len(my_list)/2)],my_list[int(len(my_list)/2):])\n",
    "merge_sort(my_list)"
   ]
  },
  {
   "cell_type": "code",
   "execution_count": null,
   "metadata": {},
   "outputs": [],
   "source": []
  },
  {
   "cell_type": "code",
   "execution_count": 24,
   "metadata": {},
   "outputs": [
    {
     "name": "stdout",
     "output_type": "stream",
     "text": [
      "[1]\n",
      "[3]\n"
     ]
    }
   ],
   "source": [
    "# my_list = [1,3,4,5,6,7,3,8,9]\n",
    "my_list = [1,3]\n",
    "print(list_h1(my_list,int(len(my_list)/2)))\n",
    "print(list_h2(my_list,int(len(my_list)/2)))"
   ]
  },
  {
   "cell_type": "code",
   "execution_count": 29,
   "metadata": {},
   "outputs": [],
   "source": [
    "# Recursive Algorithm in Python\n",
    "# Recursive algorithm is an algorithm that calls itself by passing a reduced version of input variable\n",
    "# Use Recursive function in Python\n",
    "# \n",
    "# Example calculate factorial of a positive integer (3! == 3*2*1)\n",
    "\n",
    "def factorial(num):\n",
    "    if num <=1:\n",
    "        return 1\n",
    "    else:\n",
    "        return num * factorial(num-1)"
   ]
  },
  {
   "cell_type": "code",
   "execution_count": 34,
   "metadata": {},
   "outputs": [
    {
     "data": {
      "text/plain": [
       "6"
      ]
     },
     "execution_count": 34,
     "metadata": {},
     "output_type": "execute_result"
    }
   ],
   "source": [
    "# factorial(1)\n",
    "factorial(3)"
   ]
  },
  {
   "cell_type": "code",
   "execution_count": 17,
   "metadata": {},
   "outputs": [
    {
     "name": "stdout",
     "output_type": "stream",
     "text": [
      "0.5\n",
      "0\n",
      "1\n"
     ]
    }
   ],
   "source": [
    "num = 1\n",
    "print(num/2)\n",
    "print(num//2)\n",
    "print(num%2)"
   ]
  },
  {
   "cell_type": "code",
   "execution_count": null,
   "metadata": {},
   "outputs": [],
   "source": []
  }
 ],
 "metadata": {
  "interpreter": {
   "hash": "b3ba2566441a7c06988d0923437866b63cedc61552a5af99d1f4fb67d367b25f"
  },
  "kernelspec": {
   "display_name": "Python 3.7.3 64-bit ('base': conda)",
   "name": "python3"
  },
  "language_info": {
   "codemirror_mode": {
    "name": "ipython",
    "version": 3
   },
   "file_extension": ".py",
   "mimetype": "text/x-python",
   "name": "python",
   "nbconvert_exporter": "python",
   "pygments_lexer": "ipython3",
   "version": "3.7.3"
  },
  "orig_nbformat": 4
 },
 "nbformat": 4,
 "nbformat_minor": 2
}
