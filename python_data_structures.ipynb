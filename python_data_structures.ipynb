{
 "cells": [
  {
   "cell_type": "code",
   "execution_count": 16,
   "source": [
    "# Lists\r\n",
    "names_list = ['Binay Raut', 'Abiral Raut', 'John Doe', 'Jane Roe', 'Abiral Raut']\r\n",
    "\r\n",
    "# Inspect the type of the object. It should be list\r\n",
    "print(type(names_list))\r\n",
    "\r\n",
    "# Print all items in the list\r\n",
    "print(names_list)\r\n",
    "\r\n",
    "# Print first item on the list\r\n",
    "print(names_list[0])\r\n",
    "\r\n",
    "# Print the length of the list\r\n",
    "print(len(names_list))\r\n",
    "\r\n",
    "# Add an item 'Natasha Khadka to the list and print the updated list\r\n",
    "names_list.append('Natasha Khadka')\r\n",
    "print(names_list)\r\n",
    "\r\n",
    "# Remove an item 'Binay Raut' to the list and print the updated list\r\n",
    "names_list.remove('Binay Raut')\r\n",
    "print(names_list)\r\n",
    "\r\n",
    "## Remove the second item from the list to the list and print the updated list\r\n",
    "names_list.pop(1)\r\n",
    "print(names_list)\r\n",
    "\r\n",
    "# Reverse the elements of the list\r\n",
    "names_list.reverse()\r\n",
    "print(names_list)\r\n",
    "\r\n",
    "# Count number of times 'Abiral Raut' appears in the list\r\n",
    "print(names_list.count('Abiral Raut'))\r\n",
    "\r\n",
    "# Sort the list alphabetically from a-z\r\n",
    "print(sorted(names_list))\r\n",
    "\r\n",
    "# Reverse Sort the list alphabetically from z-a\r\n",
    "print(sorted(names_list, reverse=True))\r\n",
    "\r\n",
    "# Another way to sort the list\r\n",
    "names_list.sort()\r\n",
    "print(names_list)"
   ],
   "outputs": [
    {
     "output_type": "stream",
     "name": "stdout",
     "text": [
      "<class 'list'>\n",
      "['Binay Raut', 'Abiral Raut', 'John Doe', 'Jane Roe', 'Abiral Raut']\n",
      "Binay Raut\n",
      "5\n",
      "['Binay Raut', 'Abiral Raut', 'John Doe', 'Jane Roe', 'Abiral Raut', 'Natasha Khadka']\n",
      "['Abiral Raut', 'John Doe', 'Jane Roe', 'Abiral Raut', 'Natasha Khadka']\n",
      "['Abiral Raut', 'Jane Roe', 'Abiral Raut', 'Natasha Khadka']\n",
      "['Natasha Khadka', 'Abiral Raut', 'Jane Roe', 'Abiral Raut']\n",
      "2\n",
      "['Abiral Raut', 'Abiral Raut', 'Jane Roe', 'Natasha Khadka']\n",
      "['Natasha Khadka', 'Jane Roe', 'Abiral Raut', 'Abiral Raut']\n",
      "['Abiral Raut', 'Abiral Raut', 'Jane Roe', 'Natasha Khadka']\n"
     ]
    }
   ],
   "metadata": {}
  },
  {
   "cell_type": "code",
   "execution_count": 4,
   "source": [
    "car_list = ['Toyota','Honda','Ford','BMW','Audi','Honda','Toyota']\r\n",
    "\r\n",
    "car_list.append('Toyota')\r\n",
    "\r\n",
    "print(car_list)"
   ],
   "outputs": [
    {
     "output_type": "stream",
     "name": "stdout",
     "text": [
      "['Toyota', 'Honda', 'Ford', 'BMW', 'Audi', 'Honda', 'Toyota', 'Toyota']\n"
     ]
    }
   ],
   "metadata": {}
  },
  {
   "cell_type": "code",
   "execution_count": 3,
   "source": [
    "car_list.remove('Toyota')\r\n",
    "\r\n",
    "print(car_list)"
   ],
   "outputs": [
    {
     "output_type": "stream",
     "name": "stdout",
     "text": [
      "['Honda', 'Ford', 'BMW', 'Audi', 'Honda', 'Toyota', 'Toyota']\n"
     ]
    }
   ],
   "metadata": {}
  },
  {
   "cell_type": "code",
   "execution_count": 4,
   "source": [
    "car_list.reverse()\r\n",
    "print(car_list)"
   ],
   "outputs": [
    {
     "output_type": "stream",
     "name": "stdout",
     "text": [
      "['Toyota', 'Toyota', 'Honda', 'Audi', 'BMW', 'Ford', 'Honda']\n"
     ]
    }
   ],
   "metadata": {}
  },
  {
   "cell_type": "code",
   "execution_count": 5,
   "source": [
    "car_list.pop()"
   ],
   "outputs": [
    {
     "output_type": "execute_result",
     "data": {
      "text/plain": [
       "'Honda'"
      ]
     },
     "metadata": {},
     "execution_count": 5
    }
   ],
   "metadata": {}
  },
  {
   "cell_type": "code",
   "execution_count": 6,
   "source": [
    "car_list"
   ],
   "outputs": [
    {
     "output_type": "execute_result",
     "data": {
      "text/plain": [
       "['Toyota', 'Toyota', 'Honda', 'Audi', 'BMW', 'Ford']"
      ]
     },
     "metadata": {},
     "execution_count": 6
    }
   ],
   "metadata": {}
  },
  {
   "cell_type": "code",
   "execution_count": 7,
   "source": [
    "car_list.pop(0)"
   ],
   "outputs": [
    {
     "output_type": "execute_result",
     "data": {
      "text/plain": [
       "'Toyota'"
      ]
     },
     "metadata": {},
     "execution_count": 7
    }
   ],
   "metadata": {}
  },
  {
   "cell_type": "code",
   "execution_count": 9,
   "source": [
    "car_list.pop(3)"
   ],
   "outputs": [
    {
     "output_type": "execute_result",
     "data": {
      "text/plain": [
       "'BMW'"
      ]
     },
     "metadata": {},
     "execution_count": 9
    }
   ],
   "metadata": {}
  },
  {
   "cell_type": "code",
   "execution_count": 10,
   "source": [
    "car_list"
   ],
   "outputs": [
    {
     "output_type": "execute_result",
     "data": {
      "text/plain": [
       "['Toyota', 'Honda', 'Audi', 'Ford']"
      ]
     },
     "metadata": {},
     "execution_count": 10
    }
   ],
   "metadata": {}
  },
  {
   "cell_type": "code",
   "execution_count": 13,
   "source": [
    "help(list.insert)"
   ],
   "outputs": [
    {
     "output_type": "stream",
     "name": "stdout",
     "text": [
      "Help on method_descriptor:\n",
      "\n",
      "insert(self, index, object, /)\n",
      "    Insert object before index.\n",
      "\n"
     ]
    }
   ],
   "metadata": {}
  },
  {
   "cell_type": "code",
   "execution_count": 14,
   "source": [
    "car_list.insert(0,'Honda')"
   ],
   "outputs": [],
   "metadata": {}
  },
  {
   "cell_type": "code",
   "execution_count": 16,
   "source": [
    "car_list"
   ],
   "outputs": [
    {
     "output_type": "execute_result",
     "data": {
      "text/plain": [
       "['Honda', 'Toyota', 'Honda', 'Audi', 'Ford']"
      ]
     },
     "metadata": {},
     "execution_count": 16
    }
   ],
   "metadata": {}
  },
  {
   "cell_type": "code",
   "execution_count": 17,
   "source": [
    "help(list.extend)"
   ],
   "outputs": [
    {
     "output_type": "stream",
     "name": "stdout",
     "text": [
      "Help on method_descriptor:\n",
      "\n",
      "extend(self, iterable, /)\n",
      "    Extend list by appending elements from the iterable.\n",
      "\n"
     ]
    }
   ],
   "metadata": {}
  },
  {
   "cell_type": "code",
   "execution_count": 18,
   "source": [
    "american_car_list = ['Ford','Dodge','Chevy','Lincoln']\r\n",
    "car_list.extend(american_car_list)\r\n",
    "car_list"
   ],
   "outputs": [
    {
     "output_type": "execute_result",
     "data": {
      "text/plain": [
       "['Honda',\n",
       " 'Toyota',\n",
       " 'Honda',\n",
       " 'Audi',\n",
       " 'Ford',\n",
       " 'Ford',\n",
       " 'Dodge',\n",
       " 'Chevy',\n",
       " 'Lincoln']"
      ]
     },
     "metadata": {},
     "execution_count": 18
    }
   ],
   "metadata": {}
  },
  {
   "cell_type": "code",
   "execution_count": 20,
   "source": [
    "car_list2 = car_list.copy()\r\n",
    "car_list2"
   ],
   "outputs": [
    {
     "output_type": "execute_result",
     "data": {
      "text/plain": [
       "['Honda',\n",
       " 'Toyota',\n",
       " 'Honda',\n",
       " 'Audi',\n",
       " 'Ford',\n",
       " 'Ford',\n",
       " 'Dodge',\n",
       " 'Chevy',\n",
       " 'Lincoln']"
      ]
     },
     "metadata": {},
     "execution_count": 20
    }
   ],
   "metadata": {}
  },
  {
   "cell_type": "code",
   "execution_count": 21,
   "source": [
    "car_list2.clear()\r\n",
    "car_list2"
   ],
   "outputs": [
    {
     "output_type": "execute_result",
     "data": {
      "text/plain": [
       "[]"
      ]
     },
     "metadata": {},
     "execution_count": 21
    }
   ],
   "metadata": {}
  },
  {
   "cell_type": "code",
   "execution_count": 22,
   "source": [
    "### Using List as Queue"
   ],
   "outputs": [],
   "metadata": {}
  },
  {
   "cell_type": "code",
   "execution_count": 25,
   "source": [
    "from collections import deque\r\n",
    "\r\n",
    "names_list_queue = deque(names_list.copy())\r\n",
    "names_list_queue"
   ],
   "outputs": [
    {
     "output_type": "execute_result",
     "data": {
      "text/plain": [
       "deque(['Natasha Khadka', 'Abiral Raut', 'Jane Roe', 'Abiral Raut'])"
      ]
     },
     "metadata": {},
     "execution_count": 25
    }
   ],
   "metadata": {}
  },
  {
   "cell_type": "code",
   "execution_count": 27,
   "source": [
    "names_list_queue.append('Biplav Raut')\r\n",
    "names_list_queue"
   ],
   "outputs": [
    {
     "output_type": "execute_result",
     "data": {
      "text/plain": [
       "deque(['Natasha Khadka',\n",
       "       'Abiral Raut',\n",
       "       'Jane Roe',\n",
       "       'Abiral Raut',\n",
       "       'Biplav Raut'])"
      ]
     },
     "metadata": {},
     "execution_count": 27
    }
   ],
   "metadata": {}
  },
  {
   "cell_type": "code",
   "execution_count": 28,
   "source": [
    "names_list_queue.appendleft('Nimesh Raut')\r\n",
    "print(names_list_queue)"
   ],
   "outputs": [
    {
     "output_type": "stream",
     "name": "stdout",
     "text": [
      "deque(['Nimesh Raut', 'Natasha Khadka', 'Abiral Raut', 'Jane Roe', 'Abiral Raut', 'Biplav Raut'])\n"
     ]
    }
   ],
   "metadata": {}
  },
  {
   "cell_type": "code",
   "execution_count": 29,
   "source": [
    "names_list_queue.pop()"
   ],
   "outputs": [
    {
     "output_type": "execute_result",
     "data": {
      "text/plain": [
       "'Biplav Raut'"
      ]
     },
     "metadata": {},
     "execution_count": 29
    }
   ],
   "metadata": {}
  },
  {
   "cell_type": "code",
   "execution_count": 30,
   "source": [
    "names_list_queue.popleft()"
   ],
   "outputs": [
    {
     "output_type": "execute_result",
     "data": {
      "text/plain": [
       "'Nimesh Raut'"
      ]
     },
     "metadata": {},
     "execution_count": 30
    }
   ],
   "metadata": {}
  },
  {
   "cell_type": "code",
   "execution_count": 31,
   "source": [
    "\r\n",
    "print(names_list_queue)\r\n",
    "names_list_queue.rotate()\r\n",
    "print(names_list_queue)\r\n",
    "names_list_queue.rotate()\r\n",
    "print(names_list_queue)"
   ],
   "outputs": [
    {
     "output_type": "stream",
     "name": "stdout",
     "text": [
      "deque(['Natasha Khadka', 'Abiral Raut', 'Jane Roe', 'Abiral Raut'])\n",
      "deque(['Abiral Raut', 'Natasha Khadka', 'Abiral Raut', 'Jane Roe'])\n"
     ]
    }
   ],
   "metadata": {}
  },
  {
   "cell_type": "code",
   "execution_count": 4,
   "source": [
    "import pandas as pd\r\n",
    "car1 = ['Honda','Pilot','White',2019]\r\n",
    "car2 = ['Toyota','Corolla','Green',2021]\r\n",
    "\r\n",
    "df_cars = pd.DataFrame(data=[car1,car2],columns=[\"Make\",\"Model\",\"Color\",\"Year\"])\r\n",
    "\r\n",
    "df_cars"
   ],
   "outputs": [
    {
     "output_type": "execute_result",
     "data": {
      "text/html": [
       "<div>\n",
       "<style scoped>\n",
       "    .dataframe tbody tr th:only-of-type {\n",
       "        vertical-align: middle;\n",
       "    }\n",
       "\n",
       "    .dataframe tbody tr th {\n",
       "        vertical-align: top;\n",
       "    }\n",
       "\n",
       "    .dataframe thead th {\n",
       "        text-align: right;\n",
       "    }\n",
       "</style>\n",
       "<table border=\"1\" class=\"dataframe\">\n",
       "  <thead>\n",
       "    <tr style=\"text-align: right;\">\n",
       "      <th></th>\n",
       "      <th>Make</th>\n",
       "      <th>Model</th>\n",
       "      <th>Color</th>\n",
       "      <th>Year</th>\n",
       "    </tr>\n",
       "  </thead>\n",
       "  <tbody>\n",
       "    <tr>\n",
       "      <th>0</th>\n",
       "      <td>Honda</td>\n",
       "      <td>Pilot</td>\n",
       "      <td>2019</td>\n",
       "      <td>NaN</td>\n",
       "    </tr>\n",
       "    <tr>\n",
       "      <th>1</th>\n",
       "      <td>Toyota</td>\n",
       "      <td>Corolla</td>\n",
       "      <td>Green</td>\n",
       "      <td>2021.0</td>\n",
       "    </tr>\n",
       "  </tbody>\n",
       "</table>\n",
       "</div>"
      ],
      "text/plain": [
       "     Make    Model  Color    Year\n",
       "0   Honda    Pilot   2019     NaN\n",
       "1  Toyota  Corolla  Green  2021.0"
      ]
     },
     "metadata": {},
     "execution_count": 4
    }
   ],
   "metadata": {}
  },
  {
   "cell_type": "code",
   "execution_count": 20,
   "source": [
    "numbers = [5,200,29,35]\r\n",
    "\r\n",
    "def get_sum(num_list):\r\n",
    "    sum = 0\r\n",
    "    for number in num_list:\r\n",
    "        sum += number\r\n",
    "    return sum\r\n",
    "\r\n",
    "get_sum(numbers)\r\n"
   ],
   "outputs": [
    {
     "output_type": "execute_result",
     "data": {
      "text/plain": [
       "269"
      ]
     },
     "metadata": {},
     "execution_count": 20
    }
   ],
   "metadata": {}
  },
  {
   "cell_type": "code",
   "execution_count": 36,
   "source": [
    "def bubblesort_numbers(num_list):\r\n",
    "    num_len = len(num_list)\r\n",
    "    pos = 0\r\n",
    "    counter = 1\r\n",
    "    run_counter = 1\r\n",
    "    print(r'start with',num_list)\r\n",
    "    for item in range(num_len-1):\r\n",
    "        for pos in range(num_len-counter):\r\n",
    "            if num_list[pos]>num_list[pos+1]:\r\n",
    "                temp = num_list[pos]\r\n",
    "                num_list[pos] = num_list[pos+1]\r\n",
    "                num_list[pos+1] = temp    \r\n",
    "            else:\r\n",
    "                pass\r\n",
    "            print(r'Iteration #' , run_counter,' Outer Iteration',counter, num_list, )\r\n",
    "            run_counter+=1\r\n",
    "        counter+=1\r\n",
    "        \r\n",
    "\r\n",
    "bubblesort_numbers(numbers)\r\n"
   ],
   "outputs": [
    {
     "output_type": "stream",
     "name": "stdout",
     "text": [
      "start with [5, 29, 35, 200]\n",
      "Iteration # 1  Outer Iteration 1 [5, 29, 35, 200]\n",
      "Iteration # 2  Outer Iteration 1 [5, 29, 35, 200]\n",
      "Iteration # 3  Outer Iteration 1 [5, 29, 35, 200]\n",
      "Iteration # 4  Outer Iteration 2 [5, 29, 35, 200]\n",
      "Iteration # 5  Outer Iteration 2 [5, 29, 35, 200]\n",
      "Iteration # 6  Outer Iteration 3 [5, 29, 35, 200]\n"
     ]
    }
   ],
   "metadata": {}
  },
  {
   "cell_type": "code",
   "execution_count": 38,
   "source": [
    "number_list = [9,200,15,23,12,145,2500]\r\n"
   ],
   "outputs": [],
   "metadata": {}
  },
  {
   "cell_type": "code",
   "execution_count": null,
   "source": [],
   "outputs": [],
   "metadata": {}
  }
 ],
 "metadata": {
  "orig_nbformat": 4,
  "language_info": {
   "name": "python",
   "version": "3.8.3",
   "mimetype": "text/x-python",
   "codemirror_mode": {
    "name": "ipython",
    "version": 3
   },
   "pygments_lexer": "ipython3",
   "nbconvert_exporter": "python",
   "file_extension": ".py"
  },
  "kernelspec": {
   "name": "python3",
   "display_name": "Python 3.8.3 64-bit ('base': conda)"
  },
  "interpreter": {
   "hash": "b3ba2566441a7c06988d0923437866b63cedc61552a5af99d1f4fb67d367b25f"
  }
 },
 "nbformat": 4,
 "nbformat_minor": 2
}