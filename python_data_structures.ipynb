{
 "cells": [
  {
   "cell_type": "code",
   "execution_count": 16,
   "metadata": {},
   "outputs": [
    {
     "name": "stdout",
     "output_type": "stream",
     "text": [
      "<class 'list'>\n",
      "['Binay Raut', 'Abiral Raut', 'John Doe', 'Jane Roe', 'Abiral Raut']\n",
      "Binay Raut\n",
      "5\n",
      "['Binay Raut', 'Abiral Raut', 'John Doe', 'Jane Roe', 'Abiral Raut', 'Natasha Khadka']\n",
      "['Abiral Raut', 'John Doe', 'Jane Roe', 'Abiral Raut', 'Natasha Khadka']\n",
      "['Abiral Raut', 'Jane Roe', 'Abiral Raut', 'Natasha Khadka']\n",
      "['Natasha Khadka', 'Abiral Raut', 'Jane Roe', 'Abiral Raut']\n",
      "2\n",
      "['Abiral Raut', 'Abiral Raut', 'Jane Roe', 'Natasha Khadka']\n",
      "['Natasha Khadka', 'Jane Roe', 'Abiral Raut', 'Abiral Raut']\n",
      "['Abiral Raut', 'Abiral Raut', 'Jane Roe', 'Natasha Khadka']\n"
     ]
    }
   ],
   "source": [
    "# Lists\n",
    "names_list = ['Binay Raut', 'Abiral Raut', 'John Doe', 'Jane Roe', 'Abiral Raut']\n",
    "\n",
    "# Inspect the type of the object. It should be list\n",
    "print(type(names_list))\n",
    "\n",
    "# Print all items in the list\n",
    "print(names_list)\n",
    "\n",
    "# Print first item on the list\n",
    "print(names_list[0])\n",
    "\n",
    "# Print the length of the list\n",
    "print(len(names_list))\n",
    "\n",
    "# Add an item 'Natasha Khadka' to the list and print the updated list\n",
    "names_list.append('Natasha Khadka')\n",
    "print(names_list)\n",
    "\n",
    "# Remove an item 'Binay Raut' to the list and print the updated list\n",
    "names_list.remove('Binay Raut')\n",
    "print(names_list)\n",
    "\n",
    "## Remove the second item from the list to the list and print the updated list\n",
    "names_list.pop(1)\n",
    "print(names_list)\n",
    "\n",
    "# Reverse the elements of the list\n",
    "names_list.reverse()\n",
    "print(names_list)\n",
    "\n",
    "# Count number of times 'Abiral Raut' appears in the list\n",
    "print(names_list.count('Abiral Raut'))\n",
    "\n",
    "# Sort the list alphabetically from a-z\n",
    "print(sorted(names_list))\n",
    "\n",
    "# Reverse Sort the list alphabetically from z-a\n",
    "print(sorted(names_list, reverse=True))\n",
    "\n",
    "# Another way to sort the list\n",
    "names_list.sort()\n",
    "print(names_list)"
   ]
  },
  {
   "cell_type": "code",
   "execution_count": 4,
   "metadata": {},
   "outputs": [
    {
     "name": "stdout",
     "output_type": "stream",
     "text": [
      "['Toyota', 'Honda', 'Ford', 'BMW', 'Audi', 'Honda', 'Toyota', 'Toyota']\n"
     ]
    }
   ],
   "source": [
    "car_list = ['Toyota','Honda','Ford','BMW','Audi','Honda','Toyota']\n",
    "\n",
    "car_list.append('Toyota')\n",
    "\n",
    "print(car_list)"
   ]
  },
  {
   "cell_type": "code",
   "execution_count": 3,
   "metadata": {},
   "outputs": [
    {
     "name": "stdout",
     "output_type": "stream",
     "text": [
      "['Honda', 'Ford', 'BMW', 'Audi', 'Honda', 'Toyota', 'Toyota']\n"
     ]
    }
   ],
   "source": [
    "car_list.remove('Toyota')\n",
    "\n",
    "print(car_list)"
   ]
  },
  {
   "cell_type": "code",
   "execution_count": 4,
   "metadata": {},
   "outputs": [
    {
     "name": "stdout",
     "output_type": "stream",
     "text": [
      "['Toyota', 'Toyota', 'Honda', 'Audi', 'BMW', 'Ford', 'Honda']\n"
     ]
    }
   ],
   "source": [
    "car_list.reverse()\n",
    "print(car_list)"
   ]
  },
  {
   "cell_type": "code",
   "execution_count": 5,
   "metadata": {},
   "outputs": [
    {
     "data": {
      "text/plain": [
       "'Honda'"
      ]
     },
     "execution_count": 5,
     "metadata": {},
     "output_type": "execute_result"
    }
   ],
   "source": [
    "car_list.pop()"
   ]
  },
  {
   "cell_type": "code",
   "execution_count": 6,
   "metadata": {},
   "outputs": [
    {
     "data": {
      "text/plain": [
       "['Toyota', 'Toyota', 'Honda', 'Audi', 'BMW', 'Ford']"
      ]
     },
     "execution_count": 6,
     "metadata": {},
     "output_type": "execute_result"
    }
   ],
   "source": [
    "car_list"
   ]
  },
  {
   "cell_type": "code",
   "execution_count": 7,
   "metadata": {},
   "outputs": [
    {
     "data": {
      "text/plain": [
       "'Toyota'"
      ]
     },
     "execution_count": 7,
     "metadata": {},
     "output_type": "execute_result"
    }
   ],
   "source": [
    "car_list.pop(0)"
   ]
  },
  {
   "cell_type": "code",
   "execution_count": 9,
   "metadata": {},
   "outputs": [
    {
     "data": {
      "text/plain": [
       "'BMW'"
      ]
     },
     "execution_count": 9,
     "metadata": {},
     "output_type": "execute_result"
    }
   ],
   "source": [
    "car_list.pop(3)"
   ]
  },
  {
   "cell_type": "code",
   "execution_count": 10,
   "metadata": {},
   "outputs": [
    {
     "data": {
      "text/plain": [
       "['Toyota', 'Honda', 'Audi', 'Ford']"
      ]
     },
     "execution_count": 10,
     "metadata": {},
     "output_type": "execute_result"
    }
   ],
   "source": [
    "car_list"
   ]
  },
  {
   "cell_type": "code",
   "execution_count": 13,
   "metadata": {},
   "outputs": [
    {
     "name": "stdout",
     "output_type": "stream",
     "text": [
      "Help on method_descriptor:\n",
      "\n",
      "insert(self, index, object, /)\n",
      "    Insert object before index.\n",
      "\n"
     ]
    }
   ],
   "source": [
    "help(list.insert)"
   ]
  },
  {
   "cell_type": "code",
   "execution_count": 14,
   "metadata": {},
   "outputs": [],
   "source": [
    "car_list.insert(0,'Honda')"
   ]
  },
  {
   "cell_type": "code",
   "execution_count": 16,
   "metadata": {},
   "outputs": [
    {
     "data": {
      "text/plain": [
       "['Honda', 'Toyota', 'Honda', 'Audi', 'Ford']"
      ]
     },
     "execution_count": 16,
     "metadata": {},
     "output_type": "execute_result"
    }
   ],
   "source": [
    "car_list"
   ]
  },
  {
   "cell_type": "code",
   "execution_count": 17,
   "metadata": {},
   "outputs": [
    {
     "name": "stdout",
     "output_type": "stream",
     "text": [
      "Help on method_descriptor:\n",
      "\n",
      "extend(self, iterable, /)\n",
      "    Extend list by appending elements from the iterable.\n",
      "\n"
     ]
    }
   ],
   "source": [
    "help(list.extend)"
   ]
  },
  {
   "cell_type": "code",
   "execution_count": 18,
   "metadata": {},
   "outputs": [
    {
     "data": {
      "text/plain": [
       "['Honda',\n",
       " 'Toyota',\n",
       " 'Honda',\n",
       " 'Audi',\n",
       " 'Ford',\n",
       " 'Ford',\n",
       " 'Dodge',\n",
       " 'Chevy',\n",
       " 'Lincoln']"
      ]
     },
     "execution_count": 18,
     "metadata": {},
     "output_type": "execute_result"
    }
   ],
   "source": [
    "american_car_list = ['Ford','Dodge','Chevy','Lincoln']\n",
    "car_list.extend(american_car_list)\n",
    "car_list"
   ]
  },
  {
   "cell_type": "code",
   "execution_count": 20,
   "metadata": {},
   "outputs": [
    {
     "data": {
      "text/plain": [
       "['Honda',\n",
       " 'Toyota',\n",
       " 'Honda',\n",
       " 'Audi',\n",
       " 'Ford',\n",
       " 'Ford',\n",
       " 'Dodge',\n",
       " 'Chevy',\n",
       " 'Lincoln']"
      ]
     },
     "execution_count": 20,
     "metadata": {},
     "output_type": "execute_result"
    }
   ],
   "source": [
    "car_list2 = car_list.copy()\n",
    "car_list2"
   ]
  },
  {
   "cell_type": "code",
   "execution_count": 21,
   "metadata": {},
   "outputs": [
    {
     "data": {
      "text/plain": [
       "[]"
      ]
     },
     "execution_count": 21,
     "metadata": {},
     "output_type": "execute_result"
    }
   ],
   "source": [
    "car_list2.clear()\n",
    "car_list2"
   ]
  },
  {
   "cell_type": "code",
   "execution_count": 22,
   "metadata": {},
   "outputs": [],
   "source": [
    "### Using List as Queue"
   ]
  },
  {
   "cell_type": "code",
   "execution_count": 25,
   "metadata": {},
   "outputs": [
    {
     "data": {
      "text/plain": [
       "deque(['Natasha Khadka', 'Abiral Raut', 'Jane Roe', 'Abiral Raut'])"
      ]
     },
     "execution_count": 25,
     "metadata": {},
     "output_type": "execute_result"
    }
   ],
   "source": [
    "from collections import deque\n",
    "\n",
    "names_list_queue = deque(names_list.copy())\n",
    "names_list_queue"
   ]
  },
  {
   "cell_type": "code",
   "execution_count": 27,
   "metadata": {},
   "outputs": [
    {
     "data": {
      "text/plain": [
       "deque(['Natasha Khadka',\n",
       "       'Abiral Raut',\n",
       "       'Jane Roe',\n",
       "       'Abiral Raut',\n",
       "       'Biplav Raut'])"
      ]
     },
     "execution_count": 27,
     "metadata": {},
     "output_type": "execute_result"
    }
   ],
   "source": [
    "names_list_queue.append('Biplav Raut')\n",
    "names_list_queue"
   ]
  },
  {
   "cell_type": "code",
   "execution_count": 28,
   "metadata": {},
   "outputs": [
    {
     "name": "stdout",
     "output_type": "stream",
     "text": [
      "deque(['Nimesh Raut', 'Natasha Khadka', 'Abiral Raut', 'Jane Roe', 'Abiral Raut', 'Biplav Raut'])\n"
     ]
    }
   ],
   "source": [
    "names_list_queue.appendleft('Nimesh Raut')\n",
    "print(names_list_queue)"
   ]
  },
  {
   "cell_type": "code",
   "execution_count": 29,
   "metadata": {},
   "outputs": [
    {
     "data": {
      "text/plain": [
       "'Biplav Raut'"
      ]
     },
     "execution_count": 29,
     "metadata": {},
     "output_type": "execute_result"
    }
   ],
   "source": [
    "names_list_queue.pop()"
   ]
  },
  {
   "cell_type": "code",
   "execution_count": 30,
   "metadata": {},
   "outputs": [
    {
     "data": {
      "text/plain": [
       "'Nimesh Raut'"
      ]
     },
     "execution_count": 30,
     "metadata": {},
     "output_type": "execute_result"
    }
   ],
   "source": [
    "names_list_queue.popleft()"
   ]
  },
  {
   "cell_type": "code",
   "execution_count": 31,
   "metadata": {},
   "outputs": [
    {
     "name": "stdout",
     "output_type": "stream",
     "text": [
      "deque(['Natasha Khadka', 'Abiral Raut', 'Jane Roe', 'Abiral Raut'])\n",
      "deque(['Abiral Raut', 'Natasha Khadka', 'Abiral Raut', 'Jane Roe'])\n"
     ]
    }
   ],
   "source": [
    "\n",
    "print(names_list_queue)\n",
    "names_list_queue.rotate()\n",
    "print(names_list_queue)\n",
    "names_list_queue.rotate()\n",
    "print(names_list_queue)"
   ]
  },
  {
   "cell_type": "code",
   "execution_count": 4,
   "metadata": {},
   "outputs": [
    {
     "data": {
      "text/html": [
       "<div>\n",
       "<style scoped>\n",
       "    .dataframe tbody tr th:only-of-type {\n",
       "        vertical-align: middle;\n",
       "    }\n",
       "\n",
       "    .dataframe tbody tr th {\n",
       "        vertical-align: top;\n",
       "    }\n",
       "\n",
       "    .dataframe thead th {\n",
       "        text-align: right;\n",
       "    }\n",
       "</style>\n",
       "<table border=\"1\" class=\"dataframe\">\n",
       "  <thead>\n",
       "    <tr style=\"text-align: right;\">\n",
       "      <th></th>\n",
       "      <th>Make</th>\n",
       "      <th>Model</th>\n",
       "      <th>Color</th>\n",
       "      <th>Year</th>\n",
       "    </tr>\n",
       "  </thead>\n",
       "  <tbody>\n",
       "    <tr>\n",
       "      <th>0</th>\n",
       "      <td>Honda</td>\n",
       "      <td>Pilot</td>\n",
       "      <td>2019</td>\n",
       "      <td>NaN</td>\n",
       "    </tr>\n",
       "    <tr>\n",
       "      <th>1</th>\n",
       "      <td>Toyota</td>\n",
       "      <td>Corolla</td>\n",
       "      <td>Green</td>\n",
       "      <td>2021.0</td>\n",
       "    </tr>\n",
       "  </tbody>\n",
       "</table>\n",
       "</div>"
      ],
      "text/plain": [
       "     Make    Model  Color    Year\n",
       "0   Honda    Pilot   2019     NaN\n",
       "1  Toyota  Corolla  Green  2021.0"
      ]
     },
     "execution_count": 4,
     "metadata": {},
     "output_type": "execute_result"
    }
   ],
   "source": [
    "import pandas as pd\n",
    "car1 = ['Honda','Pilot','White',2019]\n",
    "car2 = ['Toyota','Corolla','Green',2021]\n",
    "\n",
    "df_cars = pd.DataFrame(data=[car1,car2],columns=[\"Make\",\"Model\",\"Color\",\"Year\"])\n",
    "\n",
    "df_cars"
   ]
  },
  {
   "cell_type": "code",
   "execution_count": 3,
   "metadata": {},
   "outputs": [
    {
     "data": {
      "text/plain": [
       "269"
      ]
     },
     "execution_count": 3,
     "metadata": {},
     "output_type": "execute_result"
    }
   ],
   "source": [
    "numbers = [5,200,29,35]\n",
    "\n",
    "\n",
    "\n",
    "def get_sum(num_list):\n",
    "    sum = 0\n",
    "    for number in num_list:\n",
    "        sum += number\n",
    "    return sum\n",
    "\n",
    "get_sum(numbers)\n"
   ]
  },
  {
   "cell_type": "code",
<<<<<<< HEAD
   "execution_count": 28,
   "metadata": {},
   "outputs": [
    {
     "name": "stdout",
     "output_type": "stream",
     "text": [
      "start with [5, 200, 29, 35]\n",
      "Iteration # 1 Outer Iteration 1 [5, 200, 29, 35]\n",
      "Iteration # 2 Outer Iteration 1 [5, 29, 200, 35]\n",
      "Iteration # 3 Outer Iteration 1 [5, 29, 35, 200]\n",
      "The item on the position # 4 should be in its desired position.\n",
      "Iteration # 4 Outer Iteration 2 [5, 29, 35, 200]\n",
      "Iteration # 5 Outer Iteration 2 [5, 29, 35, 200]\n",
      "The item on the position # 3 should be in its desired position.\n",
      "Iteration # 6 Outer Iteration 3 [5, 29, 35, 200]\n",
      "The item on the position # 2 should be in its desired position.\n",
      "The item on the position # 1 should be in its deisred position. The list should be sorted now!\n"
     ]
    }
   ],
   "source": [
    "\n",
    "numbers = [5,200,29,35]\n",
    "\n",
    "\n",
    "def bubblesort_numbers(num_list):\n",
    "    num_len = len(num_list)\n",
    "    counter = 1 # This counter tracks sort progress. Or how many items in the list has been sorted and in thier desired position.\n",
    "    run_counter = 1 # All up run counter. \n",
    "    print(r'start with',num_list) # Print the start list to be sorted.\n",
    "    for i in range(num_len-1): # Outer Loop start\n",
    "        for j in range(num_len-counter): # Inner Loop start. Range of this is length minus the counter to track sort progress. \n",
    "        # We can also use range(num_len-i-1)\n",
    "            if num_list[j]>num_list[j+1]: # Evaluate values in two position at a time. Switch positions as needed.\n",
    "                temp = num_list[j] \n",
    "                num_list[j] = num_list[j+1]\n",
    "                num_list[j+1] = temp    \n",
    "            else:\n",
    "                pass\n",
    "            print(r'Iteration #' , run_counter,'Outer Iteration',counter, num_list, )\n",
    "            run_counter+=1\n",
    "        print(r'The item on the position #', num_len-counter+1,'should be in its desired position.')\n",
    "        counter+=1\n",
    "    print(r'The item on the position # 1 should be in its deisred position. The list should be sorted now!')\n",
    "        \n",
    "bubblesort_numbers(numbers)\n"
   ]
  },
  {
   "cell_type": "code",
   "execution_count": 29,
   "metadata": {},
=======
   "execution_count": 5,
   "source": [
    "def bubblesort_numbers(num_list):\r\n",
    "    num_len = len(num_list) # Get the length of the list and save it in the num_len variable\r\n",
    "    outer_loop_counter = 1 # count the iteration of outer loop\r\n",
    "    all_up_counter = 1 # Count the overall iteration\r\n",
    "    print(r'start with',num_list) # Print the starting list\r\n",
    "    for item in range(num_len-1): # Start of an outer loop. Run this loop untill you get to N-1 item. At the completion of each iteration of outer loop the idea is that the highest value will be placed to the right.\r\n",
    "        for pos in range(num_len-outer_loop_counter): # Start of inner loop. Go through the list and compared First item with second, then second with third and so on untill you get to last item on the loop. make appropriate switch of position as needed.\r\n",
    "            if num_list[pos]>num_list[pos+1]: # Compare the item in current position with next position. If current value is greater than the next value\r\n",
    "                temp = num_list[pos]                # Make\r\n",
    "                num_list[pos] = num_list[pos+1]     # The\r\n",
    "                num_list[pos+1] = temp              # Switch\r\n",
    "            else:\r\n",
    "                pass\r\n",
    "            print(r'Iteration #' , all_up_counter,'Outer Iteration',outer_loop_counter, num_list, )\r\n",
    "            all_up_counter+=1\r\n",
    "        outer_loop_counter+=1\r\n",
    "        \r\n",
    "# bubblesort_numbers(numbers)\r\n"
   ],
   "outputs": [],
   "metadata": {}
  },
  {
   "cell_type": "code",
   "execution_count": 6,
   "source": [
    "number_list = [2500,200,145,23,15,12,9]\r\n",
    "bubblesort_numbers(number_list)"
   ],
>>>>>>> 007542f6ae3135dfe1a9aacd58e576db85f4aa06
   "outputs": [
    {
     "name": "stdout",
     "output_type": "stream",
     "text": [
      "start with [2500, 200, 145, 23, 15, 12, 9]\n",
      "Iteration # 1 Outer Iteration 1 [200, 2500, 145, 23, 15, 12, 9]\n",
      "Iteration # 2 Outer Iteration 1 [200, 145, 2500, 23, 15, 12, 9]\n",
      "Iteration # 3 Outer Iteration 1 [200, 145, 23, 2500, 15, 12, 9]\n",
      "Iteration # 4 Outer Iteration 1 [200, 145, 23, 15, 2500, 12, 9]\n",
      "Iteration # 5 Outer Iteration 1 [200, 145, 23, 15, 12, 2500, 9]\n",
      "Iteration # 6 Outer Iteration 1 [200, 145, 23, 15, 12, 9, 2500]\n",
      "The item on the position # 7 should be in its desired position.\n",
      "Iteration # 7 Outer Iteration 2 [145, 200, 23, 15, 12, 9, 2500]\n",
      "Iteration # 8 Outer Iteration 2 [145, 23, 200, 15, 12, 9, 2500]\n",
      "Iteration # 9 Outer Iteration 2 [145, 23, 15, 200, 12, 9, 2500]\n",
      "Iteration # 10 Outer Iteration 2 [145, 23, 15, 12, 200, 9, 2500]\n",
      "Iteration # 11 Outer Iteration 2 [145, 23, 15, 12, 9, 200, 2500]\n",
      "The item on the position # 6 should be in its desired position.\n",
      "Iteration # 12 Outer Iteration 3 [23, 145, 15, 12, 9, 200, 2500]\n",
      "Iteration # 13 Outer Iteration 3 [23, 15, 145, 12, 9, 200, 2500]\n",
      "Iteration # 14 Outer Iteration 3 [23, 15, 12, 145, 9, 200, 2500]\n",
      "Iteration # 15 Outer Iteration 3 [23, 15, 12, 9, 145, 200, 2500]\n",
      "The item on the position # 5 should be in its desired position.\n",
      "Iteration # 16 Outer Iteration 4 [15, 23, 12, 9, 145, 200, 2500]\n",
      "Iteration # 17 Outer Iteration 4 [15, 12, 23, 9, 145, 200, 2500]\n",
      "Iteration # 18 Outer Iteration 4 [15, 12, 9, 23, 145, 200, 2500]\n",
      "The item on the position # 4 should be in its desired position.\n",
      "Iteration # 19 Outer Iteration 5 [12, 15, 9, 23, 145, 200, 2500]\n",
      "Iteration # 20 Outer Iteration 5 [12, 9, 15, 23, 145, 200, 2500]\n",
      "The item on the position # 3 should be in its desired position.\n",
      "Iteration # 21 Outer Iteration 6 [9, 12, 15, 23, 145, 200, 2500]\n",
      "The item on the position # 2 should be in its desired position.\n",
      "The item on the position # 1 should be in its deisred position. The list should be sorted now!\n"
     ]
    }
   ],
   "source": [
    "number_list = [2500,200,145,23,15,12,9]\n",
    "bubblesort_numbers(number_list)\n"
   ]
  },
  {
   "cell_type": "code",
   "execution_count": 3,
   "metadata": {},
   "outputs": [
    {
     "name": "stdout",
     "output_type": "stream",
     "text": [
      "4\n"
     ]
    }
   ],
   "source": [
    "numbers = [5,200,29,35]\n",
    "\n",
    "print(len(numbers))"
   ]
  },
  {
   "cell_type": "code",
   "execution_count": 11,
   "metadata": {},
   "outputs": [
    {
     "name": "stderr",
     "output_type": "stream",
     "text": [
      "Traceback (most recent call last):\n",
      "  File \"_pydevd_bundle/pydevd_cython.pyx\", line 1078, in _pydevd_bundle.pydevd_cython.PyDBFrame.trace_dispatch\n",
      "  File \"_pydevd_bundle/pydevd_cython.pyx\", line 297, in _pydevd_bundle.pydevd_cython.PyDBFrame.do_wait_suspend\n",
      "  File \"C:\\Users\\Binay\\AppData\\Roaming\\Python\\Python38\\site-packages\\debugpy\\_vendored\\pydevd\\pydevd.py\", line 1976, in do_wait_suspend\n",
      "    keep_suspended = self._do_wait_suspend(thread, frame, event, arg, suspend_type, from_this_thread, frames_tracker)\n",
      "  File \"C:\\Users\\Binay\\AppData\\Roaming\\Python\\Python38\\site-packages\\debugpy\\_vendored\\pydevd\\pydevd.py\", line 2011, in _do_wait_suspend\n",
      "    time.sleep(0.01)\n",
      "KeyboardInterrupt\n"
     ]
    },
    {
     "ename": "KeyboardInterrupt",
     "evalue": "",
     "output_type": "error",
     "traceback": [
      "\u001b[1;31m---------------------------------------------------------------------------\u001b[0m",
      "\u001b[1;31mKeyboardInterrupt\u001b[0m                         Traceback (most recent call last)",
      "\u001b[1;32m~\\AppData\\Local\\Temp/ipykernel_16664/2467401977.py\u001b[0m in \u001b[0;36m<module>\u001b[1;34m\u001b[0m\n\u001b[1;32m----> 1\u001b[1;33m \u001b[1;32mdef\u001b[0m \u001b[0mbubbleSort\u001b[0m\u001b[1;33m(\u001b[0m \u001b[0mtheSeq\u001b[0m \u001b[1;33m)\u001b[0m\u001b[1;33m:\u001b[0m\u001b[1;33m\u001b[0m\u001b[1;33m\u001b[0m\u001b[0m\n\u001b[0m\u001b[0;32m      2\u001b[0m     \u001b[0mn\u001b[0m \u001b[1;33m=\u001b[0m \u001b[0mlen\u001b[0m\u001b[1;33m(\u001b[0m \u001b[0mtheSeq\u001b[0m \u001b[1;33m)\u001b[0m\u001b[1;33m\u001b[0m\u001b[1;33m\u001b[0m\u001b[0m\n\u001b[0;32m      3\u001b[0m \u001b[1;33m\u001b[0m\u001b[0m\n\u001b[0;32m      4\u001b[0m     \u001b[1;32mfor\u001b[0m \u001b[0mi\u001b[0m \u001b[1;32min\u001b[0m \u001b[0mrange\u001b[0m\u001b[1;33m(\u001b[0m \u001b[0mn\u001b[0m \u001b[1;33m-\u001b[0m \u001b[1;36m1\u001b[0m \u001b[1;33m)\u001b[0m \u001b[1;33m:\u001b[0m\u001b[1;33m\u001b[0m\u001b[1;33m\u001b[0m\u001b[0m\n\u001b[0;32m      5\u001b[0m         \u001b[0mflag\u001b[0m \u001b[1;33m=\u001b[0m \u001b[1;36m0\u001b[0m\u001b[1;33m\u001b[0m\u001b[1;33m\u001b[0m\u001b[0m\n",
      "\u001b[1;32m~\\AppData\\Local\\Temp/ipykernel_16664/2467401977.py\u001b[0m in \u001b[0;36m<module>\u001b[1;34m\u001b[0m\n\u001b[1;32m----> 1\u001b[1;33m \u001b[1;32mdef\u001b[0m \u001b[0mbubbleSort\u001b[0m\u001b[1;33m(\u001b[0m \u001b[0mtheSeq\u001b[0m \u001b[1;33m)\u001b[0m\u001b[1;33m:\u001b[0m\u001b[1;33m\u001b[0m\u001b[1;33m\u001b[0m\u001b[0m\n\u001b[0m\u001b[0;32m      2\u001b[0m     \u001b[0mn\u001b[0m \u001b[1;33m=\u001b[0m \u001b[0mlen\u001b[0m\u001b[1;33m(\u001b[0m \u001b[0mtheSeq\u001b[0m \u001b[1;33m)\u001b[0m\u001b[1;33m\u001b[0m\u001b[1;33m\u001b[0m\u001b[0m\n\u001b[0;32m      3\u001b[0m \u001b[1;33m\u001b[0m\u001b[0m\n\u001b[0;32m      4\u001b[0m     \u001b[1;32mfor\u001b[0m \u001b[0mi\u001b[0m \u001b[1;32min\u001b[0m \u001b[0mrange\u001b[0m\u001b[1;33m(\u001b[0m \u001b[0mn\u001b[0m \u001b[1;33m-\u001b[0m \u001b[1;36m1\u001b[0m \u001b[1;33m)\u001b[0m \u001b[1;33m:\u001b[0m\u001b[1;33m\u001b[0m\u001b[1;33m\u001b[0m\u001b[0m\n\u001b[0;32m      5\u001b[0m         \u001b[0mflag\u001b[0m \u001b[1;33m=\u001b[0m \u001b[1;36m0\u001b[0m\u001b[1;33m\u001b[0m\u001b[1;33m\u001b[0m\u001b[0m\n",
      "\u001b[1;32m_pydevd_bundle/pydevd_cython.pyx\u001b[0m in \u001b[0;36m_pydevd_bundle.pydevd_cython.SafeCallWrapper.__call__\u001b[1;34m()\u001b[0m\n",
      "\u001b[1;32m_pydevd_bundle/pydevd_cython.pyx\u001b[0m in \u001b[0;36m_pydevd_bundle.pydevd_cython.PyDBFrame.trace_dispatch\u001b[1;34m()\u001b[0m\n",
      "\u001b[1;32m_pydevd_bundle/pydevd_cython.pyx\u001b[0m in \u001b[0;36m_pydevd_bundle.pydevd_cython.PyDBFrame.trace_dispatch\u001b[1;34m()\u001b[0m\n",
      "\u001b[1;32m_pydevd_bundle/pydevd_cython.pyx\u001b[0m in \u001b[0;36m_pydevd_bundle.pydevd_cython.PyDBFrame.trace_dispatch\u001b[1;34m()\u001b[0m\n",
      "\u001b[1;32m_pydevd_bundle/pydevd_cython.pyx\u001b[0m in \u001b[0;36m_pydevd_bundle.pydevd_cython.PyDBFrame.do_wait_suspend\u001b[1;34m()\u001b[0m\n",
      "\u001b[1;32m~\\AppData\\Roaming\\Python\\Python38\\site-packages\\debugpy\\_vendored\\pydevd\\pydevd.py\u001b[0m in \u001b[0;36mdo_wait_suspend\u001b[1;34m(self, thread, frame, event, arg, exception_type)\u001b[0m\n\u001b[0;32m   1974\u001b[0m \u001b[1;33m\u001b[0m\u001b[0m\n\u001b[0;32m   1975\u001b[0m             \u001b[1;32mwith\u001b[0m \u001b[0mself\u001b[0m\u001b[1;33m.\u001b[0m\u001b[0m_threads_suspended_single_notification\u001b[0m\u001b[1;33m.\u001b[0m\u001b[0mnotify_thread_suspended\u001b[0m\u001b[1;33m(\u001b[0m\u001b[0mthread_id\u001b[0m\u001b[1;33m,\u001b[0m \u001b[0mstop_reason\u001b[0m\u001b[1;33m)\u001b[0m\u001b[1;33m:\u001b[0m\u001b[1;33m\u001b[0m\u001b[1;33m\u001b[0m\u001b[0m\n\u001b[1;32m-> 1976\u001b[1;33m                 \u001b[0mkeep_suspended\u001b[0m \u001b[1;33m=\u001b[0m \u001b[0mself\u001b[0m\u001b[1;33m.\u001b[0m\u001b[0m_do_wait_suspend\u001b[0m\u001b[1;33m(\u001b[0m\u001b[0mthread\u001b[0m\u001b[1;33m,\u001b[0m \u001b[0mframe\u001b[0m\u001b[1;33m,\u001b[0m \u001b[0mevent\u001b[0m\u001b[1;33m,\u001b[0m \u001b[0marg\u001b[0m\u001b[1;33m,\u001b[0m \u001b[0msuspend_type\u001b[0m\u001b[1;33m,\u001b[0m \u001b[0mfrom_this_thread\u001b[0m\u001b[1;33m,\u001b[0m \u001b[0mframes_tracker\u001b[0m\u001b[1;33m)\u001b[0m\u001b[1;33m\u001b[0m\u001b[1;33m\u001b[0m\u001b[0m\n\u001b[0m\u001b[0;32m   1977\u001b[0m \u001b[1;33m\u001b[0m\u001b[0m\n\u001b[0;32m   1978\u001b[0m         \u001b[0mframes_list\u001b[0m \u001b[1;33m=\u001b[0m \u001b[1;32mNone\u001b[0m\u001b[1;33m\u001b[0m\u001b[1;33m\u001b[0m\u001b[0m\n",
      "\u001b[1;32m~\\AppData\\Roaming\\Python\\Python38\\site-packages\\debugpy\\_vendored\\pydevd\\pydevd.py\u001b[0m in \u001b[0;36m_do_wait_suspend\u001b[1;34m(self, thread, frame, event, arg, suspend_type, from_this_thread, frames_tracker)\u001b[0m\n\u001b[0;32m   2009\u001b[0m \u001b[1;33m\u001b[0m\u001b[0m\n\u001b[0;32m   2010\u001b[0m             \u001b[0mself\u001b[0m\u001b[1;33m.\u001b[0m\u001b[0mprocess_internal_commands\u001b[0m\u001b[1;33m(\u001b[0m\u001b[1;33m)\u001b[0m\u001b[1;33m\u001b[0m\u001b[1;33m\u001b[0m\u001b[0m\n\u001b[1;32m-> 2011\u001b[1;33m             \u001b[0mtime\u001b[0m\u001b[1;33m.\u001b[0m\u001b[0msleep\u001b[0m\u001b[1;33m(\u001b[0m\u001b[1;36m0.01\u001b[0m\u001b[1;33m)\u001b[0m\u001b[1;33m\u001b[0m\u001b[1;33m\u001b[0m\u001b[0m\n\u001b[0m\u001b[0;32m   2012\u001b[0m \u001b[1;33m\u001b[0m\u001b[0m\n\u001b[0;32m   2013\u001b[0m         \u001b[0mself\u001b[0m\u001b[1;33m.\u001b[0m\u001b[0mcancel_async_evaluation\u001b[0m\u001b[1;33m(\u001b[0m\u001b[0mget_current_thread_id\u001b[0m\u001b[1;33m(\u001b[0m\u001b[0mthread\u001b[0m\u001b[1;33m)\u001b[0m\u001b[1;33m,\u001b[0m \u001b[0mstr\u001b[0m\u001b[1;33m(\u001b[0m\u001b[0mid\u001b[0m\u001b[1;33m(\u001b[0m\u001b[0mframe\u001b[0m\u001b[1;33m)\u001b[0m\u001b[1;33m)\u001b[0m\u001b[1;33m)\u001b[0m\u001b[1;33m\u001b[0m\u001b[1;33m\u001b[0m\u001b[0m\n",
      "\u001b[1;31mKeyboardInterrupt\u001b[0m: "
     ]
    }
   ],
   "source": [
    "def bubbleSort( theSeq ):\n",
    "    n = len( theSeq )\n",
    "\n",
    "    for i in range( n - 1 ) :\n",
    "        flag = 0\n",
    "\n",
    "        for j in range(n - 1) :\n",
    "            \n",
    "            if theSeq[j] > theSeq[j + 1] : \n",
    "                tmp = theSeq[j]\n",
    "                theSeq[j] = theSeq[j + 1]\n",
    "                theSeq[j + 1] = tmp\n",
    "                flag = 1\n",
    "\n",
    "        if flag == 0:\n",
    "            break\n",
    "\n",
    "    return theSeq\n",
    "\n",
    "el = [21,6,9,33,3] \n",
    "\n",
    "result = bubbleSort(el)\n",
    "\n",
    "print (result)\n",
    "\n",
    "bubbleSort(number_list)"
   ]
  },
  {
   "cell_type": "code",
   "execution_count": 52,
   "metadata": {},
   "outputs": [
    {
     "data": {
      "text/plain": [
       "[0, 1, 1, 2, 3, 5]"
      ]
     },
     "execution_count": 52,
     "metadata": {},
     "output_type": "execute_result"
    }
   ],
   "source": [
    "def fibonacci_less_than(num):\n",
    "    output_list=[]\n",
    "    if num>=1:\n",
    "        output_list.append(0)\n",
    "        output_list.append(1)\n",
    "        while output_list[-1] < num:\n",
    "            next_num = output_list[-1]+output_list[-2]\n",
    "            if next_num <= num:\n",
    "                output_list.append(next_num) \n",
    "            else:\n",
    "                break\n",
    "\n",
    "    return output_list\n",
    "\n",
    "fibonacci_less_than(7)"
   ]
  },
  {
   "cell_type": "code",
   "execution_count": 53,
   "metadata": {},
   "outputs": [
    {
     "data": {
      "text/plain": [
       "[0, 1, 1, 2, 3, 5, 8]"
      ]
     },
     "execution_count": 53,
     "metadata": {},
     "output_type": "execute_result"
    }
   ],
   "source": [
    "fibonacci_less_than(10)"
   ]
  },
  {
   "cell_type": "code",
   "execution_count": 39,
   "metadata": {},
   "outputs": [
    {
     "name": "stdout",
     "output_type": "stream",
     "text": [
      "0\n",
      "1\n",
      "2\n",
      "3\n",
      "4\n"
     ]
    }
   ],
   "source": [
    "num = 4\n",
    "for i in range(num+1):\n",
    "    print(i)"
   ]
  },
  {
   "cell_type": "code",
   "execution_count": null,
   "metadata": {},
   "outputs": [],
   "source": []
  }
 ],
 "metadata": {
  "interpreter": {
   "hash": "b3ba2566441a7c06988d0923437866b63cedc61552a5af99d1f4fb67d367b25f"
  },
  "kernelspec": {
   "display_name": "Python 3.8.3 64-bit ('base': conda)",
   "name": "python3"
  },
  "language_info": {
<<<<<<< HEAD
=======
   "name": "python",
   "version": "3.7.3",
   "mimetype": "text/x-python",
>>>>>>> 007542f6ae3135dfe1a9aacd58e576db85f4aa06
   "codemirror_mode": {
    "name": "ipython",
    "version": 3
   },
   "file_extension": ".py",
   "mimetype": "text/x-python",
   "name": "python",
   "nbconvert_exporter": "python",
<<<<<<< HEAD
   "pygments_lexer": "ipython3",
   "version": "3.8.3"
=======
   "file_extension": ".py"
  },
  "kernelspec": {
   "name": "python3",
   "display_name": "Python 3.7.3 64-bit ('base': conda)"
>>>>>>> 007542f6ae3135dfe1a9aacd58e576db85f4aa06
  },
  "orig_nbformat": 4
 },
 "nbformat": 4,
 "nbformat_minor": 2
}
